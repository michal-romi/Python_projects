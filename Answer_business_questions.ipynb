{
 "cells": [
  {
   "cell_type": "code",
   "execution_count": 1,
   "metadata": {
    "collapsed": false
   },
   "outputs": [
    {
     "data": {
      "text/plain": [
       "'Connected: None@chinook.db'"
      ]
     },
     "execution_count": 1,
     "metadata": {},
     "output_type": "execute_result"
    }
   ],
   "source": [
    "%%capture\n",
    "%load_ext sql\n",
    "%sql sqlite:///chinook.db"
   ]
  },
  {
   "cell_type": "code",
   "execution_count": 2,
   "metadata": {
    "collapsed": false
   },
   "outputs": [
    {
     "name": "stdout",
     "output_type": "stream",
     "text": [
      "Done.\n"
     ]
    },
    {
     "data": {
      "text/html": [
       "<table>\n",
       "    <tr>\n",
       "        <th>name</th>\n",
       "        <th>type</th>\n",
       "    </tr>\n",
       "    <tr>\n",
       "        <td>album</td>\n",
       "        <td>table</td>\n",
       "    </tr>\n",
       "    <tr>\n",
       "        <td>artist</td>\n",
       "        <td>table</td>\n",
       "    </tr>\n",
       "    <tr>\n",
       "        <td>customer</td>\n",
       "        <td>table</td>\n",
       "    </tr>\n",
       "    <tr>\n",
       "        <td>employee</td>\n",
       "        <td>table</td>\n",
       "    </tr>\n",
       "    <tr>\n",
       "        <td>genre</td>\n",
       "        <td>table</td>\n",
       "    </tr>\n",
       "    <tr>\n",
       "        <td>invoice</td>\n",
       "        <td>table</td>\n",
       "    </tr>\n",
       "    <tr>\n",
       "        <td>invoice_line</td>\n",
       "        <td>table</td>\n",
       "    </tr>\n",
       "    <tr>\n",
       "        <td>media_type</td>\n",
       "        <td>table</td>\n",
       "    </tr>\n",
       "    <tr>\n",
       "        <td>playlist</td>\n",
       "        <td>table</td>\n",
       "    </tr>\n",
       "    <tr>\n",
       "        <td>playlist_track</td>\n",
       "        <td>table</td>\n",
       "    </tr>\n",
       "    <tr>\n",
       "        <td>track</td>\n",
       "        <td>table</td>\n",
       "    </tr>\n",
       "</table>"
      ],
      "text/plain": [
       "[('album', 'table'),\n",
       " ('artist', 'table'),\n",
       " ('customer', 'table'),\n",
       " ('employee', 'table'),\n",
       " ('genre', 'table'),\n",
       " ('invoice', 'table'),\n",
       " ('invoice_line', 'table'),\n",
       " ('media_type', 'table'),\n",
       " ('playlist', 'table'),\n",
       " ('playlist_track', 'table'),\n",
       " ('track', 'table')]"
      ]
     },
     "execution_count": 2,
     "metadata": {},
     "output_type": "execute_result"
    }
   ],
   "source": [
    "%%sql\n",
    "SELECT\n",
    "    name,\n",
    "    type\n",
    "FROM sqlite_master\n",
    "WHERE type IN (\"table\",\"view\");"
   ]
  },
  {
   "cell_type": "markdown",
   "metadata": {},
   "source": [
    " In order to select the 3 albums, the label should be looking at which genres performs the best in USA so now we are going to check that"
   ]
  },
  {
   "cell_type": "code",
   "execution_count": 23,
   "metadata": {
    "collapsed": false
   },
   "outputs": [
    {
     "name": "stdout",
     "output_type": "stream",
     "text": [
      "Done.\n"
     ]
    },
    {
     "data": {
      "text/html": [
       "<table>\n",
       "    <tr>\n",
       "        <th>genre</th>\n",
       "        <th>tracks_sold</th>\n",
       "        <th>percentage_sold</th>\n",
       "    </tr>\n",
       "    <tr>\n",
       "        <td>Rock</td>\n",
       "        <td>561</td>\n",
       "        <td>0.5337773549000951</td>\n",
       "    </tr>\n",
       "    <tr>\n",
       "        <td>Alternative &amp; Punk</td>\n",
       "        <td>130</td>\n",
       "        <td>0.12369172216936251</td>\n",
       "    </tr>\n",
       "    <tr>\n",
       "        <td>Metal</td>\n",
       "        <td>124</td>\n",
       "        <td>0.11798287345385347</td>\n",
       "    </tr>\n",
       "    <tr>\n",
       "        <td>R&amp;B/Soul</td>\n",
       "        <td>53</td>\n",
       "        <td>0.05042816365366318</td>\n",
       "    </tr>\n",
       "    <tr>\n",
       "        <td>Blues</td>\n",
       "        <td>36</td>\n",
       "        <td>0.03425309229305423</td>\n",
       "    </tr>\n",
       "    <tr>\n",
       "        <td>Alternative</td>\n",
       "        <td>35</td>\n",
       "        <td>0.03330161750713606</td>\n",
       "    </tr>\n",
       "    <tr>\n",
       "        <td>Latin</td>\n",
       "        <td>22</td>\n",
       "        <td>0.02093244529019981</td>\n",
       "    </tr>\n",
       "    <tr>\n",
       "        <td>Pop</td>\n",
       "        <td>22</td>\n",
       "        <td>0.02093244529019981</td>\n",
       "    </tr>\n",
       "    <tr>\n",
       "        <td>Hip Hop/Rap</td>\n",
       "        <td>20</td>\n",
       "        <td>0.019029495718363463</td>\n",
       "    </tr>\n",
       "    <tr>\n",
       "        <td>Jazz</td>\n",
       "        <td>14</td>\n",
       "        <td>0.013320647002854425</td>\n",
       "    </tr>\n",
       "    <tr>\n",
       "        <td>Easy Listening</td>\n",
       "        <td>13</td>\n",
       "        <td>0.012369172216936251</td>\n",
       "    </tr>\n",
       "    <tr>\n",
       "        <td>Reggae</td>\n",
       "        <td>6</td>\n",
       "        <td>0.005708848715509039</td>\n",
       "    </tr>\n",
       "    <tr>\n",
       "        <td>Electronica/Dance</td>\n",
       "        <td>5</td>\n",
       "        <td>0.004757373929590866</td>\n",
       "    </tr>\n",
       "    <tr>\n",
       "        <td>Classical</td>\n",
       "        <td>4</td>\n",
       "        <td>0.003805899143672693</td>\n",
       "    </tr>\n",
       "    <tr>\n",
       "        <td>Heavy Metal</td>\n",
       "        <td>3</td>\n",
       "        <td>0.0028544243577545195</td>\n",
       "    </tr>\n",
       "    <tr>\n",
       "        <td>Soundtrack</td>\n",
       "        <td>2</td>\n",
       "        <td>0.0019029495718363464</td>\n",
       "    </tr>\n",
       "    <tr>\n",
       "        <td>TV Shows</td>\n",
       "        <td>1</td>\n",
       "        <td>0.0009514747859181732</td>\n",
       "    </tr>\n",
       "</table>"
      ],
      "text/plain": [
       "[('Rock', 561, 0.5337773549000951),\n",
       " ('Alternative & Punk', 130, 0.12369172216936251),\n",
       " ('Metal', 124, 0.11798287345385347),\n",
       " ('R&B/Soul', 53, 0.05042816365366318),\n",
       " ('Blues', 36, 0.03425309229305423),\n",
       " ('Alternative', 35, 0.03330161750713606),\n",
       " ('Latin', 22, 0.02093244529019981),\n",
       " ('Pop', 22, 0.02093244529019981),\n",
       " ('Hip Hop/Rap', 20, 0.019029495718363463),\n",
       " ('Jazz', 14, 0.013320647002854425),\n",
       " ('Easy Listening', 13, 0.012369172216936251),\n",
       " ('Reggae', 6, 0.005708848715509039),\n",
       " ('Electronica/Dance', 5, 0.004757373929590866),\n",
       " ('Classical', 4, 0.003805899143672693),\n",
       " ('Heavy Metal', 3, 0.0028544243577545195),\n",
       " ('Soundtrack', 2, 0.0019029495718363464),\n",
       " ('TV Shows', 1, 0.0009514747859181732)]"
      ]
     },
     "execution_count": 23,
     "metadata": {},
     "output_type": "execute_result"
    }
   ],
   "source": [
    "%%sql\n",
    "WITH usa AS\n",
    "   (\n",
    "    SELECT il.* FROM invoice_line il\n",
    "    INNER JOIN invoice i on il.invoice_id = i.invoice_id\n",
    "    INNER JOIN customer c on i.customer_id = c.customer_id\n",
    "    WHERE c.country = \"USA\"\n",
    "   )\n",
    "\n",
    "SELECT\n",
    "    g.name genre,\n",
    "    count(usa.invoice_line_id) tracks_sold,\n",
    "    cast(count(usa.invoice_line_id) AS FLOAT) / (\n",
    "        SELECT COUNT(*) from usa) percentage_sold\n",
    "FROM usa\n",
    "INNER JOIN track t on t.track_id = usa.track_id\n",
    "INNER JOIN genre g on g.genre_id = t.genre_id\n",
    "GROUP BY 1\n",
    "ORDER BY 2 DESC\n"
   ]
  },
  {
   "cell_type": "markdown",
   "metadata": {},
   "source": [
    "From this analysis it sees the top genere we should take are:\n",
    "    1. Punk - Red Tone\n",
    "    2. Blues - Slim Jim Bites\n",
    "    3. pop - Meteor and the Girls"
   ]
  },
  {
   "cell_type": "markdown",
   "metadata": {},
   "source": [
    "Calculating the toal sales amount per each sales rep"
   ]
  },
  {
   "cell_type": "code",
   "execution_count": 30,
   "metadata": {
    "collapsed": false
   },
   "outputs": [
    {
     "name": "stdout",
     "output_type": "stream",
     "text": [
      "Done.\n"
     ]
    },
    {
     "data": {
      "text/html": [
       "<table>\n",
       "    <tr>\n",
       "        <th>employee_id</th>\n",
       "        <th>last_name</th>\n",
       "        <th>first_name</th>\n",
       "        <th>title</th>\n",
       "        <th>reports_to</th>\n",
       "        <th>birthdate</th>\n",
       "        <th>hire_date</th>\n",
       "        <th>address</th>\n",
       "        <th>city</th>\n",
       "        <th>state</th>\n",
       "        <th>country</th>\n",
       "        <th>postal_code</th>\n",
       "        <th>phone</th>\n",
       "        <th>fax</th>\n",
       "        <th>email</th>\n",
       "    </tr>\n",
       "    <tr>\n",
       "        <td>1</td>\n",
       "        <td>Adams</td>\n",
       "        <td>Andrew</td>\n",
       "        <td>General Manager</td>\n",
       "        <td>None</td>\n",
       "        <td>1962-02-18 00:00:00</td>\n",
       "        <td>2016-08-14 00:00:00</td>\n",
       "        <td>11120 Jasper Ave NW</td>\n",
       "        <td>Edmonton</td>\n",
       "        <td>AB</td>\n",
       "        <td>Canada</td>\n",
       "        <td>T5K 2N1</td>\n",
       "        <td>+1 (780) 428-9482</td>\n",
       "        <td>+1 (780) 428-3457</td>\n",
       "        <td>andrew@chinookcorp.com</td>\n",
       "    </tr>\n",
       "    <tr>\n",
       "        <td>2</td>\n",
       "        <td>Edwards</td>\n",
       "        <td>Nancy</td>\n",
       "        <td>Sales Manager</td>\n",
       "        <td>1</td>\n",
       "        <td>1958-12-08 00:00:00</td>\n",
       "        <td>2016-05-01 00:00:00</td>\n",
       "        <td>825 8 Ave SW</td>\n",
       "        <td>Calgary</td>\n",
       "        <td>AB</td>\n",
       "        <td>Canada</td>\n",
       "        <td>T2P 2T3</td>\n",
       "        <td>+1 (403) 262-3443</td>\n",
       "        <td>+1 (403) 262-3322</td>\n",
       "        <td>nancy@chinookcorp.com</td>\n",
       "    </tr>\n",
       "    <tr>\n",
       "        <td>3</td>\n",
       "        <td>Peacock</td>\n",
       "        <td>Jane</td>\n",
       "        <td>Sales Support Agent</td>\n",
       "        <td>2</td>\n",
       "        <td>1973-08-29 00:00:00</td>\n",
       "        <td>2017-04-01 00:00:00</td>\n",
       "        <td>1111 6 Ave SW</td>\n",
       "        <td>Calgary</td>\n",
       "        <td>AB</td>\n",
       "        <td>Canada</td>\n",
       "        <td>T2P 5M5</td>\n",
       "        <td>+1 (403) 262-3443</td>\n",
       "        <td>+1 (403) 262-6712</td>\n",
       "        <td>jane@chinookcorp.com</td>\n",
       "    </tr>\n",
       "    <tr>\n",
       "        <td>4</td>\n",
       "        <td>Park</td>\n",
       "        <td>Margaret</td>\n",
       "        <td>Sales Support Agent</td>\n",
       "        <td>2</td>\n",
       "        <td>1947-09-19 00:00:00</td>\n",
       "        <td>2017-05-03 00:00:00</td>\n",
       "        <td>683 10 Street SW</td>\n",
       "        <td>Calgary</td>\n",
       "        <td>AB</td>\n",
       "        <td>Canada</td>\n",
       "        <td>T2P 5G3</td>\n",
       "        <td>+1 (403) 263-4423</td>\n",
       "        <td>+1 (403) 263-4289</td>\n",
       "        <td>margaret@chinookcorp.com</td>\n",
       "    </tr>\n",
       "    <tr>\n",
       "        <td>5</td>\n",
       "        <td>Johnson</td>\n",
       "        <td>Steve</td>\n",
       "        <td>Sales Support Agent</td>\n",
       "        <td>2</td>\n",
       "        <td>1965-03-03 00:00:00</td>\n",
       "        <td>2017-10-17 00:00:00</td>\n",
       "        <td>7727B 41 Ave</td>\n",
       "        <td>Calgary</td>\n",
       "        <td>AB</td>\n",
       "        <td>Canada</td>\n",
       "        <td>T3B 1Y7</td>\n",
       "        <td>1 (780) 836-9987</td>\n",
       "        <td>1 (780) 836-9543</td>\n",
       "        <td>steve@chinookcorp.com</td>\n",
       "    </tr>\n",
       "    <tr>\n",
       "        <td>6</td>\n",
       "        <td>Mitchell</td>\n",
       "        <td>Michael</td>\n",
       "        <td>IT Manager</td>\n",
       "        <td>1</td>\n",
       "        <td>1973-07-01 00:00:00</td>\n",
       "        <td>2016-10-17 00:00:00</td>\n",
       "        <td>5827 Bowness Road NW</td>\n",
       "        <td>Calgary</td>\n",
       "        <td>AB</td>\n",
       "        <td>Canada</td>\n",
       "        <td>T3B 0C5</td>\n",
       "        <td>+1 (403) 246-9887</td>\n",
       "        <td>+1 (403) 246-9899</td>\n",
       "        <td>michael@chinookcorp.com</td>\n",
       "    </tr>\n",
       "    <tr>\n",
       "        <td>7</td>\n",
       "        <td>King</td>\n",
       "        <td>Robert</td>\n",
       "        <td>IT Staff</td>\n",
       "        <td>6</td>\n",
       "        <td>1970-05-29 00:00:00</td>\n",
       "        <td>2017-01-02 00:00:00</td>\n",
       "        <td>590 Columbia Boulevard West</td>\n",
       "        <td>Lethbridge</td>\n",
       "        <td>AB</td>\n",
       "        <td>Canada</td>\n",
       "        <td>T1K 5N8</td>\n",
       "        <td>+1 (403) 456-9986</td>\n",
       "        <td>+1 (403) 456-8485</td>\n",
       "        <td>robert@chinookcorp.com</td>\n",
       "    </tr>\n",
       "    <tr>\n",
       "        <td>8</td>\n",
       "        <td>Callahan</td>\n",
       "        <td>Laura</td>\n",
       "        <td>IT Staff</td>\n",
       "        <td>6</td>\n",
       "        <td>1968-01-09 00:00:00</td>\n",
       "        <td>2017-03-04 00:00:00</td>\n",
       "        <td>923 7 ST NW</td>\n",
       "        <td>Lethbridge</td>\n",
       "        <td>AB</td>\n",
       "        <td>Canada</td>\n",
       "        <td>T1H 1Y8</td>\n",
       "        <td>+1 (403) 467-3351</td>\n",
       "        <td>+1 (403) 467-8772</td>\n",
       "        <td>laura@chinookcorp.com</td>\n",
       "    </tr>\n",
       "</table>"
      ],
      "text/plain": [
       "[(1, 'Adams', 'Andrew', 'General Manager', None, '1962-02-18 00:00:00', '2016-08-14 00:00:00', '11120 Jasper Ave NW', 'Edmonton', 'AB', 'Canada', 'T5K 2N1', '+1 (780) 428-9482', '+1 (780) 428-3457', 'andrew@chinookcorp.com'),\n",
       " (2, 'Edwards', 'Nancy', 'Sales Manager', 1, '1958-12-08 00:00:00', '2016-05-01 00:00:00', '825 8 Ave SW', 'Calgary', 'AB', 'Canada', 'T2P 2T3', '+1 (403) 262-3443', '+1 (403) 262-3322', 'nancy@chinookcorp.com'),\n",
       " (3, 'Peacock', 'Jane', 'Sales Support Agent', 2, '1973-08-29 00:00:00', '2017-04-01 00:00:00', '1111 6 Ave SW', 'Calgary', 'AB', 'Canada', 'T2P 5M5', '+1 (403) 262-3443', '+1 (403) 262-6712', 'jane@chinookcorp.com'),\n",
       " (4, 'Park', 'Margaret', 'Sales Support Agent', 2, '1947-09-19 00:00:00', '2017-05-03 00:00:00', '683 10 Street SW', 'Calgary', 'AB', 'Canada', 'T2P 5G3', '+1 (403) 263-4423', '+1 (403) 263-4289', 'margaret@chinookcorp.com'),\n",
       " (5, 'Johnson', 'Steve', 'Sales Support Agent', 2, '1965-03-03 00:00:00', '2017-10-17 00:00:00', '7727B 41 Ave', 'Calgary', 'AB', 'Canada', 'T3B 1Y7', '1 (780) 836-9987', '1 (780) 836-9543', 'steve@chinookcorp.com'),\n",
       " (6, 'Mitchell', 'Michael', 'IT Manager', 1, '1973-07-01 00:00:00', '2016-10-17 00:00:00', '5827 Bowness Road NW', 'Calgary', 'AB', 'Canada', 'T3B 0C5', '+1 (403) 246-9887', '+1 (403) 246-9899', 'michael@chinookcorp.com'),\n",
       " (7, 'King', 'Robert', 'IT Staff', 6, '1970-05-29 00:00:00', '2017-01-02 00:00:00', '590 Columbia Boulevard West', 'Lethbridge', 'AB', 'Canada', 'T1K 5N8', '+1 (403) 456-9986', '+1 (403) 456-8485', 'robert@chinookcorp.com'),\n",
       " (8, 'Callahan', 'Laura', 'IT Staff', 6, '1968-01-09 00:00:00', '2017-03-04 00:00:00', '923 7 ST NW', 'Lethbridge', 'AB', 'Canada', 'T1H 1Y8', '+1 (403) 467-3351', '+1 (403) 467-8772', 'laura@chinookcorp.com')]"
      ]
     },
     "execution_count": 30,
     "metadata": {},
     "output_type": "execute_result"
    }
   ],
   "source": [
    "%%sql\n",
    "select * from employee"
   ]
  },
  {
   "cell_type": "code",
   "execution_count": 28,
   "metadata": {
    "collapsed": false
   },
   "outputs": [
    {
     "name": "stdout",
     "output_type": "stream",
     "text": [
      "Done.\n"
     ]
    },
    {
     "data": {
      "text/html": [
       "<table>\n",
       "    <tr>\n",
       "        <th>employee_id</th>\n",
       "        <th>e.first_name || &quot; &quot; || e.last_name</th>\n",
       "        <th>title</th>\n",
       "        <th>hire_date</th>\n",
       "        <th>country</th>\n",
       "        <th>total_sales</th>\n",
       "    </tr>\n",
       "    <tr>\n",
       "        <td>3</td>\n",
       "        <td>Jane Peacock</td>\n",
       "        <td>Sales Support Agent</td>\n",
       "        <td>2017-04-01 00:00:00</td>\n",
       "        <td>Canada</td>\n",
       "        <td>1731.510000000004</td>\n",
       "    </tr>\n",
       "    <tr>\n",
       "        <td>4</td>\n",
       "        <td>Margaret Park</td>\n",
       "        <td>Sales Support Agent</td>\n",
       "        <td>2017-05-03 00:00:00</td>\n",
       "        <td>Canada</td>\n",
       "        <td>1584.0000000000032</td>\n",
       "    </tr>\n",
       "    <tr>\n",
       "        <td>5</td>\n",
       "        <td>Steve Johnson</td>\n",
       "        <td>Sales Support Agent</td>\n",
       "        <td>2017-10-17 00:00:00</td>\n",
       "        <td>Canada</td>\n",
       "        <td>1393.9200000000028</td>\n",
       "    </tr>\n",
       "    <tr>\n",
       "        <td>1</td>\n",
       "        <td>Andrew Adams</td>\n",
       "        <td>General Manager</td>\n",
       "        <td>2016-08-14 00:00:00</td>\n",
       "        <td>Canada</td>\n",
       "        <td>None</td>\n",
       "    </tr>\n",
       "    <tr>\n",
       "        <td>2</td>\n",
       "        <td>Nancy Edwards</td>\n",
       "        <td>Sales Manager</td>\n",
       "        <td>2016-05-01 00:00:00</td>\n",
       "        <td>Canada</td>\n",
       "        <td>None</td>\n",
       "    </tr>\n",
       "    <tr>\n",
       "        <td>6</td>\n",
       "        <td>Michael Mitchell</td>\n",
       "        <td>IT Manager</td>\n",
       "        <td>2016-10-17 00:00:00</td>\n",
       "        <td>Canada</td>\n",
       "        <td>None</td>\n",
       "    </tr>\n",
       "    <tr>\n",
       "        <td>7</td>\n",
       "        <td>Robert King</td>\n",
       "        <td>IT Staff</td>\n",
       "        <td>2017-01-02 00:00:00</td>\n",
       "        <td>Canada</td>\n",
       "        <td>None</td>\n",
       "    </tr>\n",
       "    <tr>\n",
       "        <td>8</td>\n",
       "        <td>Laura Callahan</td>\n",
       "        <td>IT Staff</td>\n",
       "        <td>2017-03-04 00:00:00</td>\n",
       "        <td>Canada</td>\n",
       "        <td>None</td>\n",
       "    </tr>\n",
       "</table>"
      ],
      "text/plain": [
       "[(3, 'Jane Peacock', 'Sales Support Agent', '2017-04-01 00:00:00', 'Canada', 1731.510000000004),\n",
       " (4, 'Margaret Park', 'Sales Support Agent', '2017-05-03 00:00:00', 'Canada', 1584.0000000000032),\n",
       " (5, 'Steve Johnson', 'Sales Support Agent', '2017-10-17 00:00:00', 'Canada', 1393.9200000000028),\n",
       " (1, 'Andrew Adams', 'General Manager', '2016-08-14 00:00:00', 'Canada', None),\n",
       " (2, 'Nancy Edwards', 'Sales Manager', '2016-05-01 00:00:00', 'Canada', None),\n",
       " (6, 'Michael Mitchell', 'IT Manager', '2016-10-17 00:00:00', 'Canada', None),\n",
       " (7, 'Robert King', 'IT Staff', '2017-01-02 00:00:00', 'Canada', None),\n",
       " (8, 'Laura Callahan', 'IT Staff', '2017-03-04 00:00:00', 'Canada', None)]"
      ]
     },
     "execution_count": 28,
     "metadata": {},
     "output_type": "execute_result"
    }
   ],
   "source": [
    "%%sql\n",
    "select e.employee_id,\n",
    "       e.first_name || \" \" || e.last_name,\n",
    "       e. title,\n",
    "       e.hire_date,\n",
    "       e.country,\n",
    "       SUM(i.total) as total_sales\n",
    "FROM employee e\n",
    "LEFT JOIN customer c on c.support_rep_id = e.employee_id\n",
    "LEFT JOIN invoice i on i.customer_id = c.customer_id\n",
    "GROUP BY e.employee_id\n",
    "ORDER BY total_sales DESC"
   ]
  },
  {
   "cell_type": "markdown",
   "metadata": {},
   "source": [
    "Looks like the performance is very similar to all 3 sales representatives if we consider their hiring data"
   ]
  },
  {
   "cell_type": "markdown",
   "metadata": {},
   "source": [
    "Calculate statistics per country:\n",
    "1. calculate how many customers are per country\n",
    "2. what is the total value of sales per country\n",
    "3. Average value of sales per customer per country\n",
    "4. Average order value per country"
   ]
  },
  {
   "cell_type": "code",
   "execution_count": 55,
   "metadata": {
    "collapsed": false
   },
   "outputs": [
    {
     "name": "stdout",
     "output_type": "stream",
     "text": [
      "Done.\n"
     ]
    },
    {
     "data": {
      "text/html": [
       "<table>\n",
       "    <tr>\n",
       "        <th>country</th>\n",
       "        <th>total_customers</th>\n",
       "        <th>total_sales</th>\n",
       "        <th>total_orders</th>\n",
       "        <th>AVG_per_cust</th>\n",
       "        <th>AVG_per_order</th>\n",
       "    </tr>\n",
       "    <tr>\n",
       "        <td>Czech Republic</td>\n",
       "        <td>2</td>\n",
       "        <td>273.23999999999995</td>\n",
       "        <td>30</td>\n",
       "        <td>136.61999999999998</td>\n",
       "        <td>9.107999999999999</td>\n",
       "    </tr>\n",
       "    <tr>\n",
       "        <td>Portugal</td>\n",
       "        <td>2</td>\n",
       "        <td>185.13</td>\n",
       "        <td>29</td>\n",
       "        <td>92.565</td>\n",
       "        <td>6.3837931034482756</td>\n",
       "    </tr>\n",
       "    <tr>\n",
       "        <td>India</td>\n",
       "        <td>2</td>\n",
       "        <td>183.14999999999995</td>\n",
       "        <td>21</td>\n",
       "        <td>91.57499999999997</td>\n",
       "        <td>8.72142857142857</td>\n",
       "    </tr>\n",
       "    <tr>\n",
       "        <td>Brazil</td>\n",
       "        <td>5</td>\n",
       "        <td>427.6799999999999</td>\n",
       "        <td>61</td>\n",
       "        <td>85.53599999999997</td>\n",
       "        <td>7.011147540983605</td>\n",
       "    </tr>\n",
       "    <tr>\n",
       "        <td>Germany</td>\n",
       "        <td>4</td>\n",
       "        <td>334.61999999999995</td>\n",
       "        <td>41</td>\n",
       "        <td>83.65499999999999</td>\n",
       "        <td>8.161463414634145</td>\n",
       "    </tr>\n",
       "    <tr>\n",
       "        <td>United Kingdom</td>\n",
       "        <td>3</td>\n",
       "        <td>245.52</td>\n",
       "        <td>28</td>\n",
       "        <td>81.84</td>\n",
       "        <td>8.768571428571429</td>\n",
       "    </tr>\n",
       "    <tr>\n",
       "        <td>USA</td>\n",
       "        <td>13</td>\n",
       "        <td>1040.4900000000005</td>\n",
       "        <td>131</td>\n",
       "        <td>80.03769230769234</td>\n",
       "        <td>7.942671755725194</td>\n",
       "    </tr>\n",
       "    <tr>\n",
       "        <td>France</td>\n",
       "        <td>5</td>\n",
       "        <td>389.07000000000005</td>\n",
       "        <td>50</td>\n",
       "        <td>77.81400000000001</td>\n",
       "        <td>7.781400000000001</td>\n",
       "    </tr>\n",
       "    <tr>\n",
       "        <td>Other</td>\n",
       "        <td>15</td>\n",
       "        <td>1094.9399999999998</td>\n",
       "        <td>147</td>\n",
       "        <td>72.996</td>\n",
       "        <td>7.4485714285714275</td>\n",
       "    </tr>\n",
       "    <tr>\n",
       "        <td>Canada</td>\n",
       "        <td>8</td>\n",
       "        <td>535.59</td>\n",
       "        <td>76</td>\n",
       "        <td>66.94875</td>\n",
       "        <td>7.047236842105264</td>\n",
       "    </tr>\n",
       "</table>"
      ],
      "text/plain": [
       "[('Czech Republic', 2, 273.23999999999995, 30, 136.61999999999998, 9.107999999999999),\n",
       " ('Portugal', 2, 185.13, 29, 92.565, 6.3837931034482756),\n",
       " ('India', 2, 183.14999999999995, 21, 91.57499999999997, 8.72142857142857),\n",
       " ('Brazil', 5, 427.6799999999999, 61, 85.53599999999997, 7.011147540983605),\n",
       " ('Germany', 4, 334.61999999999995, 41, 83.65499999999999, 8.161463414634145),\n",
       " ('United Kingdom', 3, 245.52, 28, 81.84, 8.768571428571429),\n",
       " ('USA', 13, 1040.4900000000005, 131, 80.03769230769234, 7.942671755725194),\n",
       " ('France', 5, 389.07000000000005, 50, 77.81400000000001, 7.781400000000001),\n",
       " ('Other', 15, 1094.9399999999998, 147, 72.996, 7.4485714285714275),\n",
       " ('Canada', 8, 535.59, 76, 66.94875, 7.047236842105264)]"
      ]
     },
     "execution_count": 55,
     "metadata": {},
     "output_type": "execute_result"
    }
   ],
   "source": [
    "%%sql\n",
    "WITH tot_customers as\n",
    "(\n",
    "    SELECT c.country,\n",
    "           COUNT(DISTINCT c.customer_id) as total_customers,\n",
    "           CASE\n",
    "                WHEN COUNT( DISTINCT c.customer_id) = 1 THEN \"Other\" \n",
    "                ELSE c.country\n",
    "           END as \"country_group\",\n",
    "           SUM (i.total) as total_sales,\n",
    "           COUNT(i.invoice_id) as total_orders \n",
    "\n",
    "    FROM customer c\n",
    "    LEFT JOIN invoice i on i.customer_id = c.customer_id\n",
    "    group by 1\n",
    ")\n",
    "SELECT country_group as country,\n",
    "       SUM(total_customers) as total_customers,\n",
    "       sum(total_sales) as total_sales,\n",
    "       sum(total_orders) as total_orders, \n",
    "       sum(total_sales) /  sum(total_customers) as AVG_per_cust,\n",
    "       sum(total_sales) / sum(total_orders) as AVG_per_order\n",
    "FROM tot_customers \n",
    "GROUP BY 1\n",
    "order by 5 DESC\n",
    "       "
   ]
  },
  {
   "cell_type": "markdown",
   "metadata": {},
   "source": [
    "According to this analysis it looks like The Czech Republic is the most profitable per customer followed by Portugal and India\n"
   ]
  },
  {
   "cell_type": "markdown",
   "metadata": {},
   "source": [
    "Check each invoice to see if it is a full album or individual tracks"
   ]
  },
  {
   "cell_type": "code",
   "execution_count": 62,
   "metadata": {
    "collapsed": false
   },
   "outputs": [
    {
     "name": "stdout",
     "output_type": "stream",
     "text": [
      "Done.\n"
     ]
    },
    {
     "data": {
      "text/plain": [
       "[]"
      ]
     },
     "execution_count": 62,
     "metadata": {},
     "output_type": "execute_result"
    }
   ],
   "source": [
    "%%sql\n",
    "CREATE VIEW full_albums AS \n",
    "SELECT DISTINCT\n",
    "       al.album_id,\n",
    "       al.title,\n",
    "       t.track_id,\n",
    "       t.name\n",
    "FROM album al\n",
    "LEFT JOIN track t on t.album_id = al.album_id\n",
    "order by 1,3"
   ]
  },
  {
   "cell_type": "code",
   "execution_count": 65,
   "metadata": {
    "collapsed": false
   },
   "outputs": [
    {
     "name": "stdout",
     "output_type": "stream",
     "text": [
      "Done.\n"
     ]
    },
    {
     "data": {
      "text/plain": [
       "[]"
      ]
     },
     "execution_count": 65,
     "metadata": {},
     "output_type": "execute_result"
    }
   ],
   "source": [
    "%%sql\n",
    "CREATE VIEW inv_details AS\n",
    "SELECT i.invoice_id,\n",
    "       t.album_id,\n",
    "       al.title,\n",
    "       t.track_id,\n",
    "       t.name\n",
    "FROM invoice i\n",
    "INNER JOIN invoice_line il on il.invoice_id = i.invoice_id\n",
    "LEFT JOIN track t on t.track_id = il.track_id\n",
    "LEFT JOIN album al on al.album_id = t.album_id\n",
    "ORDER by 1,2,4"
   ]
  },
  {
   "cell_type": "code",
   "execution_count": 75,
   "metadata": {
    "collapsed": false
   },
   "outputs": [
    {
     "name": "stdout",
     "output_type": "stream",
     "text": [
      "Done.\n"
     ]
    },
    {
     "data": {
      "text/plain": [
       "[]"
      ]
     },
     "execution_count": 75,
     "metadata": {},
     "output_type": "execute_result"
    }
   ],
   "source": [
    "%%sql\n",
    "CREATE VIEW albums_totals AS\n",
    "    select \n",
    "           f.album_id as id,\n",
    "           f.title as album_name,\n",
    "           count(f.track_id) as total_tracks_album\n",
    "    FROM full_albums f\n",
    "    group by 1\n",
    "\n",
    " \n",
    "\n",
    " \n"
   ]
  },
  {
   "cell_type": "code",
   "execution_count": 77,
   "metadata": {
    "collapsed": false
   },
   "outputs": [
    {
     "name": "stdout",
     "output_type": "stream",
     "text": [
      "Done.\n"
     ]
    },
    {
     "data": {
      "text/plain": [
       "[]"
      ]
     },
     "execution_count": 77,
     "metadata": {},
     "output_type": "execute_result"
    }
   ],
   "source": [
    "%%sql\n",
    "CREATE VIEW inv_tracks_totals AS\n",
    "    select inv.invoice_id as inv_id,\n",
    "           inv.album_id as album,\n",
    "           count(inv.track_id) as tot_lines\n",
    "    FROM inv_details inv\n",
    "    group by 1\n",
    "    "
   ]
  },
  {
   "cell_type": "code",
   "execution_count": 94,
   "metadata": {
    "collapsed": false
   },
   "outputs": [
    {
     "name": "stdout",
     "output_type": "stream",
     "text": [
      "Done.\n"
     ]
    },
    {
     "data": {
      "text/html": [
       "<table>\n",
       "    <tr>\n",
       "        <th>count(inv.inv_id)</th>\n",
       "        <th>pct</th>\n",
       "    </tr>\n",
       "    <tr>\n",
       "        <td>117</td>\n",
       "        <td>0.19055374592833876</td>\n",
       "    </tr>\n",
       "</table>"
      ],
      "text/plain": [
       "[(117, 0.19055374592833876)]"
      ]
     },
     "execution_count": 94,
     "metadata": {},
     "output_type": "execute_result"
    }
   ],
   "source": [
    "%%sql\n",
    "select count(inv.inv_id),\n",
    "      cast( (count(inv.inv_id)) as float) / (select count(inv_id) from inv_tracks_totals) as pct\n",
    "from inv_tracks_totals inv\n",
    "Left Join albums_totals alb on alb.id = inv.album\n",
    "where inv.tot_lines = alb.total_tracks_album\n",
    "  and alb.total_tracks_album > 5"
   ]
  },
  {
   "cell_type": "markdown",
   "metadata": {},
   "source": [
    "IT looks like 19% of purchases are of a full album (for albums with more than 5 songs) so it is not recommended to drop this option\n"
   ]
  }
 ],
 "metadata": {
  "kernelspec": {
   "display_name": "Python 3",
   "language": "python",
   "name": "python3"
  },
  "language_info": {
   "codemirror_mode": {
    "name": "ipython",
    "version": 3
   },
   "file_extension": ".py",
   "mimetype": "text/x-python",
   "name": "python",
   "nbconvert_exporter": "python",
   "pygments_lexer": "ipython3",
   "version": "3.4.3"
  }
 },
 "nbformat": 4,
 "nbformat_minor": 2
}
