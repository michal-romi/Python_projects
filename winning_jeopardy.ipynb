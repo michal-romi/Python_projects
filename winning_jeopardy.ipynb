{
 "cells": [
  {
   "cell_type": "markdown",
   "metadata": {
    "collapsed": true
   },
   "source": [
    "<h2>Winning Jeopardy</h2>"
   ]
  },
  {
   "cell_type": "markdown",
   "metadata": {},
   "source": [
    "In this project we are going to use a dataset og Jeopardy questions to gain some insights on the type of questions asked and what should we focus on if we want to have better chances of winning.  \n",
    "The data set can be obtained from this link  \n",
    "https://www.reddit.com/r/datasets/comments/1uyd0t/200000_jeopardy_questions_in_a_json_file/"
   ]
  },
  {
   "cell_type": "code",
   "execution_count": 130,
   "metadata": {
    "collapsed": true
   },
   "outputs": [],
   "source": [
    "import pandas as pd\n",
    "import numpy as np\n",
    "from scipy.stats import chisquare\n",
    "from scipy.stats import chi2_contingency\n",
    "from matplotlib import pyplot as plt\n",
    "import random\n",
    "import re\n",
    "%matplotlib inline"
   ]
  },
  {
   "cell_type": "code",
   "execution_count": 99,
   "metadata": {
    "collapsed": true
   },
   "outputs": [],
   "source": [
    "jeopardy = pd.read_csv('jeopardy.csv', parse_dates=[' Air Date'])"
   ]
  },
  {
   "cell_type": "code",
   "execution_count": 100,
   "metadata": {
    "collapsed": false
   },
   "outputs": [
    {
     "data": {
      "text/html": [
       "<div>\n",
       "<style scoped>\n",
       "    .dataframe tbody tr th:only-of-type {\n",
       "        vertical-align: middle;\n",
       "    }\n",
       "\n",
       "    .dataframe tbody tr th {\n",
       "        vertical-align: top;\n",
       "    }\n",
       "\n",
       "    .dataframe thead th {\n",
       "        text-align: right;\n",
       "    }\n",
       "</style>\n",
       "<table border=\"1\" class=\"dataframe\">\n",
       "  <thead>\n",
       "    <tr style=\"text-align: right;\">\n",
       "      <th></th>\n",
       "      <th>Show Number</th>\n",
       "      <th>Air Date</th>\n",
       "      <th>Round</th>\n",
       "      <th>Category</th>\n",
       "      <th>Value</th>\n",
       "      <th>Question</th>\n",
       "      <th>Answer</th>\n",
       "    </tr>\n",
       "  </thead>\n",
       "  <tbody>\n",
       "    <tr>\n",
       "      <th>0</th>\n",
       "      <td>4680</td>\n",
       "      <td>2004-12-31</td>\n",
       "      <td>Jeopardy!</td>\n",
       "      <td>HISTORY</td>\n",
       "      <td>$200</td>\n",
       "      <td>For the last 8 years of his life, Galileo was ...</td>\n",
       "      <td>Copernicus</td>\n",
       "    </tr>\n",
       "    <tr>\n",
       "      <th>1</th>\n",
       "      <td>4680</td>\n",
       "      <td>2004-12-31</td>\n",
       "      <td>Jeopardy!</td>\n",
       "      <td>ESPN's TOP 10 ALL-TIME ATHLETES</td>\n",
       "      <td>$200</td>\n",
       "      <td>No. 2: 1912 Olympian; football star at Carlisl...</td>\n",
       "      <td>Jim Thorpe</td>\n",
       "    </tr>\n",
       "    <tr>\n",
       "      <th>2</th>\n",
       "      <td>4680</td>\n",
       "      <td>2004-12-31</td>\n",
       "      <td>Jeopardy!</td>\n",
       "      <td>EVERYBODY TALKS ABOUT IT...</td>\n",
       "      <td>$200</td>\n",
       "      <td>The city of Yuma in this state has a record av...</td>\n",
       "      <td>Arizona</td>\n",
       "    </tr>\n",
       "    <tr>\n",
       "      <th>3</th>\n",
       "      <td>4680</td>\n",
       "      <td>2004-12-31</td>\n",
       "      <td>Jeopardy!</td>\n",
       "      <td>THE COMPANY LINE</td>\n",
       "      <td>$200</td>\n",
       "      <td>In 1963, live on \"The Art Linkletter Show\", th...</td>\n",
       "      <td>McDonald's</td>\n",
       "    </tr>\n",
       "    <tr>\n",
       "      <th>4</th>\n",
       "      <td>4680</td>\n",
       "      <td>2004-12-31</td>\n",
       "      <td>Jeopardy!</td>\n",
       "      <td>EPITAPHS &amp; TRIBUTES</td>\n",
       "      <td>$200</td>\n",
       "      <td>Signer of the Dec. of Indep., framer of the Co...</td>\n",
       "      <td>John Adams</td>\n",
       "    </tr>\n",
       "  </tbody>\n",
       "</table>\n",
       "</div>"
      ],
      "text/plain": [
       "   Show Number   Air Date      Round                         Category  Value  \\\n",
       "0         4680 2004-12-31  Jeopardy!                          HISTORY   $200   \n",
       "1         4680 2004-12-31  Jeopardy!  ESPN's TOP 10 ALL-TIME ATHLETES   $200   \n",
       "2         4680 2004-12-31  Jeopardy!      EVERYBODY TALKS ABOUT IT...   $200   \n",
       "3         4680 2004-12-31  Jeopardy!                 THE COMPANY LINE   $200   \n",
       "4         4680 2004-12-31  Jeopardy!              EPITAPHS & TRIBUTES   $200   \n",
       "\n",
       "                                            Question      Answer  \n",
       "0  For the last 8 years of his life, Galileo was ...  Copernicus  \n",
       "1  No. 2: 1912 Olympian; football star at Carlisl...  Jim Thorpe  \n",
       "2  The city of Yuma in this state has a record av...     Arizona  \n",
       "3  In 1963, live on \"The Art Linkletter Show\", th...  McDonald's  \n",
       "4  Signer of the Dec. of Indep., framer of the Co...  John Adams  "
      ]
     },
     "execution_count": 100,
     "metadata": {},
     "output_type": "execute_result"
    }
   ],
   "source": [
    "jeopardy.head()"
   ]
  },
  {
   "cell_type": "code",
   "execution_count": 101,
   "metadata": {
    "collapsed": false
   },
   "outputs": [
    {
     "data": {
      "text/plain": [
       "Index(['Show Number', ' Air Date', ' Round', ' Category', ' Value',\n",
       "       ' Question', ' Answer'],\n",
       "      dtype='object')"
      ]
     },
     "execution_count": 101,
     "metadata": {},
     "output_type": "execute_result"
    }
   ],
   "source": [
    "jeopardy.columns"
   ]
  },
  {
   "cell_type": "code",
   "execution_count": 102,
   "metadata": {
    "collapsed": true
   },
   "outputs": [],
   "source": [
    "jeopardy.rename(columns={' Air Date': 'Air Date', ' Round': 'Round', ' Category': 'Category', ' Value':'Value', ' Question':'Question', ' Answer': 'Answer'}, inplace=True)"
   ]
  },
  {
   "cell_type": "code",
   "execution_count": 103,
   "metadata": {
    "collapsed": false
   },
   "outputs": [
    {
     "name": "stdout",
     "output_type": "stream",
     "text": [
      "<class 'pandas.core.frame.DataFrame'>\n",
      "RangeIndex: 19999 entries, 0 to 19998\n",
      "Data columns (total 7 columns):\n",
      "Show Number    19999 non-null int64\n",
      "Air Date       19999 non-null datetime64[ns]\n",
      "Round          19999 non-null object\n",
      "Category       19999 non-null object\n",
      "Value          19999 non-null object\n",
      "Question       19999 non-null object\n",
      "Answer         19999 non-null object\n",
      "dtypes: datetime64[ns](1), int64(1), object(5)\n",
      "memory usage: 1.1+ MB\n"
     ]
    }
   ],
   "source": [
    "jeopardy.info()"
   ]
  },
  {
   "cell_type": "code",
   "execution_count": 104,
   "metadata": {
    "collapsed": false
   },
   "outputs": [
    {
     "data": {
      "text/plain": [
       "Index(['Show Number', 'Air Date', 'Round', 'Category', 'Value', 'Question',\n",
       "       'Answer'],\n",
       "      dtype='object')"
      ]
     },
     "execution_count": 104,
     "metadata": {},
     "output_type": "execute_result"
    }
   ],
   "source": [
    "jeopardy.columns"
   ]
  },
  {
   "cell_type": "markdown",
   "metadata": {},
   "source": [
    "Fisrt we should normalize the values in the Question and Answer columns"
   ]
  },
  {
   "cell_type": "code",
   "execution_count": 105,
   "metadata": {
    "collapsed": true
   },
   "outputs": [],
   "source": [
    "def clean_col(col):\n",
    "    text = col.lower()\n",
    "    text = re.sub(\"[^A-Za-z0-9\\s]\", \"\", text)\n",
    "    text = re.sub(\"\\s+\", \" \", text)\n",
    "    return text"
   ]
  },
  {
   "cell_type": "code",
   "execution_count": 106,
   "metadata": {
    "collapsed": false
   },
   "outputs": [],
   "source": [
    "jeopardy['clean_question'] = jeopardy['Question'].apply(clean_col)\n",
    "jeopardy['clean_answer'] = jeopardy['Answer'].apply(clean_col)"
   ]
  },
  {
   "cell_type": "code",
   "execution_count": 107,
   "metadata": {
    "collapsed": true
   },
   "outputs": [],
   "source": [
    "def clean_value(col):\n",
    "    number = re.sub(\"[^A-Za-z0-9\\s]\", \"\", col)\n",
    "    try:\n",
    "        number = int(number)\n",
    "    except:\n",
    "        number = 0\n",
    "    return number\n"
   ]
  },
  {
   "cell_type": "code",
   "execution_count": 108,
   "metadata": {
    "collapsed": true
   },
   "outputs": [],
   "source": [
    "jeopardy['clean_value'] = jeopardy['Value'].apply(clean_value)\n",
    "jeopardy['clean_value'] = jeopardy['clean_value'].astype(int)\n"
   ]
  },
  {
   "cell_type": "markdown",
   "metadata": {},
   "source": [
    "In this section we are going to answer the question:  \n",
    "How often the answer is deducible from the question?"
   ]
  },
  {
   "cell_type": "code",
   "execution_count": 109,
   "metadata": {
    "collapsed": false
   },
   "outputs": [],
   "source": [
    "def calc_match(row):\n",
    "    match_count = 0\n",
    "    split_answer = row['clean_answer'].split()\n",
    "    split_question = row['clean_question'].split()\n",
    "    if 'the' in split_answer:\n",
    "        split_answer.remove('the')\n",
    "    if len(split_answer) == 0:\n",
    "        return 0\n",
    "    for word in split_answer:\n",
    "        if word in split_question:\n",
    "            match_count +=1\n",
    "    return match_count / len(split_answer)"
   ]
  },
  {
   "cell_type": "code",
   "execution_count": 110,
   "metadata": {
    "collapsed": false
   },
   "outputs": [
    {
     "name": "stdout",
     "output_type": "stream",
     "text": [
      "0.05900196524977763\n"
     ]
    }
   ],
   "source": [
    "jeopardy['answer_in_question'] = jeopardy.apply(calc_match, axis=1)\n",
    "mean = jeopardy['answer_in_question'].mean()\n",
    "print(mean)"
   ]
  },
  {
   "cell_type": "markdown",
   "metadata": {},
   "source": [
    "s it looks like only ~ 6% of the answers can be inferred fom the question so this is a relativly low number and we shouldn't count on it for our win."
   ]
  },
  {
   "cell_type": "markdown",
   "metadata": {},
   "source": [
    "<h3> Repeated Questions</h3>"
   ]
  },
  {
   "cell_type": "markdown",
   "metadata": {},
   "source": [
    "We only have 10% of the questions asked so we are not able to get an exact answer but using this sample of questions can help us get some kind of an estimation"
   ]
  },
  {
   "cell_type": "code",
   "execution_count": 111,
   "metadata": {
    "collapsed": true
   },
   "outputs": [],
   "source": [
    "question_overlap = []\n",
    "terms_used = set([])"
   ]
  },
  {
   "cell_type": "code",
   "execution_count": 112,
   "metadata": {
    "collapsed": false
   },
   "outputs": [],
   "source": [
    "jeopardy.sort_values('Air Date',axis=0, inplace=True)"
   ]
  },
  {
   "cell_type": "code",
   "execution_count": 113,
   "metadata": {
    "collapsed": false
   },
   "outputs": [
    {
     "name": "stdout",
     "output_type": "stream",
     "text": [
      "0.6894031359073245\n"
     ]
    }
   ],
   "source": [
    "for index, row in jeopardy.iterrows():\n",
    "    split_question = row['clean_question'].split(\" \")\n",
    "    split_question = [q for q in split_question if len(q) > 5]\n",
    "    match_count = 0\n",
    "    for word in split_question:\n",
    "        if word in terms_used:\n",
    "            match_count+=1\n",
    "        terms_used.add(word)\n",
    "    if len(split_question) > 0:\n",
    "        match_count = match_count / len(split_question)\n",
    "    question_overlap.append(match_count)\n",
    "    \n",
    "jeopardy['question_overlap'] = question_overlap\n",
    "print(jeopardy['question_overlap'].mean())"
   ]
  },
  {
   "cell_type": "markdown",
   "metadata": {},
   "source": [
    "We see that in this sample we have around 69% of the terms that were re-used. This doesn't mean necessarily that the questions are recycled since these are tokens and not full questiosns but it does give us reason to dig deeper into tjis question. "
   ]
  },
  {
   "cell_type": "code",
   "execution_count": 114,
   "metadata": {
    "collapsed": false
   },
   "outputs": [],
   "source": [
    "jeopardy['high_value'] = jeopardy.apply(lambda row: 1 if row['clean_value'] > 800 else 0,axis=1)"
   ]
  },
  {
   "cell_type": "code",
   "execution_count": 115,
   "metadata": {
    "collapsed": true
   },
   "outputs": [],
   "source": [
    "def calc_high_low(word):\n",
    "    low_count = 0\n",
    "    high_count = 0\n",
    "    for index, row in jeopardy.iterrows():\n",
    "        split_question = row['clean_question'].split(\" \")\n",
    "        if word in split_question:\n",
    "            if row['high_value'] ==1:\n",
    "                high_count+=1\n",
    "            else:\n",
    "                low_count+1\n",
    "    return high_count, low_count\n",
    "\n",
    "    "
   ]
  },
  {
   "cell_type": "code",
   "execution_count": 121,
   "metadata": {
    "collapsed": false
   },
   "outputs": [
    {
     "name": "stdout",
     "output_type": "stream",
     "text": [
      "['underwater', 'camping', 'crooners', 'events', 'mussolini', 'targetblankexhibita', 'charleston', 'spleen', 'needle', 'facing']\n"
     ]
    }
   ],
   "source": [
    "comparison_terms = random.sample(terms_used,10)\n",
    "print(comparison_terms)"
   ]
  },
  {
   "cell_type": "code",
   "execution_count": 122,
   "metadata": {
    "collapsed": true
   },
   "outputs": [],
   "source": [
    "observed_expected = []\n",
    "for word in comparison_terms:\n",
    "    observed_expected.append(calc_high_low(word))"
   ]
  },
  {
   "cell_type": "code",
   "execution_count": 123,
   "metadata": {
    "collapsed": false
   },
   "outputs": [
    {
     "name": "stdout",
     "output_type": "stream",
     "text": [
      "[(2, 0), (0, 0), (0, 0), (3, 0), (1, 0), (1, 0), (0, 0), (0, 0), (1, 0), (0, 0)]\n"
     ]
    }
   ],
   "source": [
    "print(observed_expected)"
   ]
  },
  {
   "cell_type": "code",
   "execution_count": 124,
   "metadata": {
    "collapsed": true
   },
   "outputs": [],
   "source": [
    "high_value_count = jeopardy[jeopardy[\"high_value\"] == 1].shape[0]\n",
    "low_value_count = jeopardy[jeopardy[\"high_value\"] == 0].shape[0]"
   ]
  },
  {
   "cell_type": "code",
   "execution_count": 125,
   "metadata": {
    "collapsed": false
   },
   "outputs": [
    {
     "name": "stderr",
     "output_type": "stream",
     "text": [
      "/dataquest/system/env/python3/lib/python3.4/site-packages/scipy/stats/stats.py:4350: RuntimeWarning:\n",
      "\n",
      "invalid value encountered in true_divide\n",
      "\n"
     ]
    },
    {
     "data": {
      "text/plain": [
       "[Power_divergenceResult(statistic=4.97558423439135, pvalue=0.025707519787911092),\n",
       " Power_divergenceResult(statistic=nan, pvalue=nan),\n",
       " Power_divergenceResult(statistic=nan, pvalue=nan),\n",
       " Power_divergenceResult(statistic=7.463376351587025, pvalue=0.006296679668748999),\n",
       " Power_divergenceResult(statistic=2.487792117195675, pvalue=0.11473257634454047),\n",
       " Power_divergenceResult(statistic=2.487792117195675, pvalue=0.11473257634454047),\n",
       " Power_divergenceResult(statistic=nan, pvalue=nan),\n",
       " Power_divergenceResult(statistic=nan, pvalue=nan),\n",
       " Power_divergenceResult(statistic=2.487792117195675, pvalue=0.11473257634454047),\n",
       " Power_divergenceResult(statistic=nan, pvalue=nan)]"
      ]
     },
     "execution_count": 125,
     "metadata": {},
     "output_type": "execute_result"
    }
   ],
   "source": [
    "chi_squared = []\n",
    "for obs in observed_expected:\n",
    "    total = sum(obs)\n",
    "    total_prop = total / jeopardy.shape[0]\n",
    "    high_value_exp = total_prop * high_value_count\n",
    "    low_value_exp = total_prop * low_value_count\n",
    "    \n",
    "    observed = np.array([obs[0], obs[1]])\n",
    "    expected = np.array([high_value_exp, low_value_exp])\n",
    "    chi_squared.append(chisquare(observed, expected))\n",
    "\n",
    "chi_squared"
   ]
  },
  {
   "cell_type": "markdown",
   "metadata": {},
   "source": [
    "some of the pvalues ar less than 5% and thus significant however the frequencies are too low to take these results as a statistically significant"
   ]
  },
  {
   "cell_type": "markdown",
   "metadata": {},
   "source": [
    "Lets look at the categories frequencies and see if there is a connection between the category and high value questions. Looking just at the frequencies of the categories we can see the top 5 categories are:  \n",
    "1. Television  \n",
    "2. U.S Geography\n",
    "3. Literature\n",
    "4. History\n",
    "5. American History"
   ]
  },
  {
   "cell_type": "code",
   "execution_count": 126,
   "metadata": {
    "collapsed": false
   },
   "outputs": [
    {
     "data": {
      "text/plain": [
       "TELEVISION                          0.255013\n",
       "U.S. GEOGRAPHY                      0.250013\n",
       "LITERATURE                          0.225011\n",
       "HISTORY                             0.200010\n",
       "AMERICAN HISTORY                    0.200010\n",
       "BEFORE & AFTER                      0.200010\n",
       "AUTHORS                             0.195010\n",
       "WORD ORIGINS                        0.190010\n",
       "WORLD CAPITALS                      0.185009\n",
       "BODIES OF WATER                     0.180009\n",
       "SPORTS                              0.180009\n",
       "RHYME TIME                          0.175009\n",
       "SCIENCE & NATURE                    0.175009\n",
       "MAGAZINES                           0.175009\n",
       "SCIENCE                             0.175009\n",
       "WORLD GEOGRAPHY                     0.165008\n",
       "WORLD HISTORY                       0.160008\n",
       "ANNUAL EVENTS                       0.160008\n",
       "HISTORIC NAMES                      0.160008\n",
       "BIRDS                               0.155008\n",
       "IN THE DICTIONARY                   0.155008\n",
       "FICTIONAL CHARACTERS                0.155008\n",
       "U.S. PRESIDENTS                     0.150008\n",
       "ISLANDS                             0.150008\n",
       "POTPOURRI                           0.150008\n",
       "TRAVEL & TOURISM                    0.150008\n",
       "MEDICINE                            0.150008\n",
       "OPERA                               0.150008\n",
       "BALLET                              0.145007\n",
       "ART                                 0.140007\n",
       "                                      ...   \n",
       "AFRICA                              0.005000\n",
       "HISTORIC PROPERTY TRANSACTIONS      0.005000\n",
       "CHARACTERS IN NOVELS                0.005000\n",
       "NONFICTION AUTHORS                  0.005000\n",
       "HEALTH & FITNESS                    0.005000\n",
       "FAMOUS TEACHERS                     0.005000\n",
       "NAMES IN THE NEWS                   0.005000\n",
       "SHAKESPEAREAN TRAGEDY CHARACTERS    0.005000\n",
       "1999 ANNIVERSARIES                  0.005000\n",
       "WEATHER CHANNEL                     0.005000\n",
       "20th CENTURY NOTABLES               0.005000\n",
       "20th CENTURY U.S. PRESIDENTS        0.005000\n",
       "MAJOR LEAGUE BASEBALL               0.005000\n",
       "FATHERS & SONS                      0.005000\n",
       "POLITICAL IDIOMS                    0.005000\n",
       "U.S. GOVERNMENT                     0.005000\n",
       "BRITISH NOVEL CHARACTERS            0.005000\n",
       "ITALIAN INVENTORS                   0.005000\n",
       "MOVIE SEQUELS                       0.005000\n",
       "EXPLORATION                         0.005000\n",
       "ENTERTAINERS                        0.005000\n",
       "TELEVISION HISTORY                  0.005000\n",
       "HOBBIES                             0.005000\n",
       "THE WORLD AFTER WWII                0.005000\n",
       "THE TONY AWARDS                     0.005000\n",
       "19th CENTURY POLITICIANS            0.005000\n",
       "FAMOUS WEDDINGS                     0.005000\n",
       "CELEBRITY POLITICIANS               0.005000\n",
       "RENAISSANCE LITERATURE              0.005000\n",
       "AFRICAN AMERICANS                   0.005000\n",
       "Name: Category, Length: 3581, dtype: float64"
      ]
     },
     "execution_count": 126,
     "metadata": {},
     "output_type": "execute_result"
    }
   ],
   "source": [
    "jeopardy['Category'].value_counts(normalize=True)*100"
   ]
  },
  {
   "cell_type": "markdown",
   "metadata": {},
   "source": [
    "If we are looking at the frequencies of the categories per high value questions we can see the following:"
   ]
  },
  {
   "cell_type": "code",
   "execution_count": 128,
   "metadata": {
    "collapsed": false
   },
   "outputs": [
    {
     "name": "stdout",
     "output_type": "stream",
     "text": [
      "high_value                    0  1\n",
      "Category                          \n",
      "\"A\" IN SCIENCE                2  3\n",
      "\"A\" PLUS                      2  3\n",
      "\"A\" SCIENCE CATEGORY          1  3\n",
      "\"A\"NCIENT GREEKS              2  3\n",
      "\"AA\"                          4  1\n",
      "\"AD\"JECTIVES                  4  1\n",
      "\"AE\"-NCIENT CROSSWORD CLUES   2  3\n",
      "\"AI\"                          2  3\n",
      "\"ANT\" INFESTATION             2  3\n",
      "\"AS\" YOU LIKE IT              2  3\n",
      "\"AW\", SHUCKS                  3  2\n",
      "\"B\" IN FASHION                4  1\n",
      "\"B\" IN GEOGRAPHY              4  1\n",
      "\"B\" MOVIES                    5  0\n",
      "\"B\" PREPARED                  4  1\n",
      "\"B-I\"                         2  3\n",
      "\"BACK\" WORDS                  5  0\n",
      "\"BARN\"S                       4  1\n",
      "\"BAT\" TOOLS                   4  1\n",
      "\"BB\" BOOKS                    2  3\n",
      "\"BEA\"S                        5  0\n",
      "\"BLACK\" OR \"WHITE\"            4  1\n",
      "\"BOO\"!                        2  3\n",
      "\"BOOK\"S                       4  1\n",
      "\"BY\" NOW                      4  1\n",
      "\"C\" CREATURES                 5  0\n",
      "\"C\" PLUS                      2  3\n",
      "\"C.B.\"                        5  0\n",
      "\"CAL\" STATE                   5  0\n",
      "\"CAMP\"                        2  3\n",
      "...                          .. ..\n",
      "YOU KNOW WHAT THEY SAY        5  0\n",
      "YOU KNOW WHAT THEY SAY...     4  1\n",
      "YOU LOOK LIKE A GREEK GOD     4  1\n",
      "YOU MUST BE JOKING            5  0\n",
      "YOU NEED THERAPY              5  0\n",
      "YOU SHOULD BE IN A BALLET!    2  3\n",
      "YOU SHOULD KNOW THIS STUFF    4  1\n",
      "YOU TUBE                      1  0\n",
      "YOU'LL NEED SOME COACHING     4  1\n",
      "YOU'RE \"NUT\"s!                4  1\n",
      "YOU'RE ALL WET                4  1\n",
      "YOU'RE AN ANIMAL!             7  3\n",
      "YOU'RE GOING \"IN\"             2  3\n",
      "YOU'RE THE MAN NOW, DOG!      5  0\n",
      "YOU'RE UNDER A \"REST\"         4  1\n",
      "YOU'VE GOT COMPANY            2  3\n",
      "YOU: BEING BEAUTIFUL          4  1\n",
      "YOUNG ABE LINCOLN             4  1\n",
      "YOUNG WOMEN OF TODAY          3  2\n",
      "YOUR HONOR, I OBJECT!         4  1\n",
      "YOUR NEW CLASS SCHEDULE       4  1\n",
      "YOUR NUMBER'S UP              2  3\n",
      "YOUTH IN ASIA                 4  1\n",
      "YOUTH ORGANIZATIONS           3  2\n",
      "ZODIAC SYMBOLS                5  0\n",
      "ZOOLOGY                      10  0\n",
      "___ OG                        4  1\n",
      "____ OF THE ____              4  1\n",
      "iPOD, YOUTUBE OR WII          4  1\n",
      "“SAINTS”                      3  1\n",
      "\n",
      "[3581 rows x 2 columns]\n"
     ]
    }
   ],
   "source": [
    "observed = pd.crosstab(jeopardy['Category'],[jeopardy['high_value']])\n",
    "print(table)"
   ]
  },
  {
   "cell_type": "code",
   "execution_count": 131,
   "metadata": {
    "collapsed": false
   },
   "outputs": [
    {
     "name": "stdout",
     "output_type": "stream",
     "text": [
      "1.3164918947704949e-21\n"
     ]
    }
   ],
   "source": [
    "chisq_value, pvalue, df, expected = chi2_contingency(observed)\n",
    "print(pvalue)"
   ]
  },
  {
   "cell_type": "markdown",
   "metadata": {},
   "source": [
    "So there seem to be a connection between the category and high value questions"
   ]
  },
  {
   "cell_type": "code",
   "execution_count": null,
   "metadata": {
    "collapsed": true
   },
   "outputs": [],
   "source": []
  }
 ],
 "metadata": {
  "kernelspec": {
   "display_name": "Python 3",
   "language": "python",
   "name": "python3"
  },
  "language_info": {
   "codemirror_mode": {
    "name": "ipython",
    "version": 3
   },
   "file_extension": ".py",
   "mimetype": "text/x-python",
   "name": "python",
   "nbconvert_exporter": "python",
   "pygments_lexer": "ipython3",
   "version": "3.4.3"
  }
 },
 "nbformat": 4,
 "nbformat_minor": 0
}
