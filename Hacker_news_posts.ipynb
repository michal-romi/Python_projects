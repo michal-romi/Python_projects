{
 "cells": [
  {
   "cell_type": "markdown",
   "metadata": {
    "collapsed": true
   },
   "source": [
    "In this project we wil import a reduced dataset of Hacker_news.csv\n",
    "0 = id\n",
    "1 = title\n",
    "2 = url\n",
    "3 = num_points\n",
    "4 = num_comments\n",
    "5 = author\n",
    "6 = created_at"
   ]
  },
  {
   "cell_type": "code",
   "execution_count": 14,
   "metadata": {
    "collapsed": false
   },
   "outputs": [],
   "source": [
    "import pandas as pd\n",
    "import datetime as dt\n",
    "import numpy as np\n",
    "\n",
    "#from csv import reader\n",
    "#opened_file = open('hacker_news.csv')\n",
    "#read_file = reader(opened_file)\n",
    "\n",
    "#hn = list(read_file)\n",
    "#hn = hn[1:]\n",
    "#print(hn[:4])\n",
    "hn= pd.read_csv('hacker_news.csv',parse_dates=[6])\n"
   ]
  },
  {
   "cell_type": "code",
   "execution_count": 15,
   "metadata": {
    "collapsed": false
   },
   "outputs": [
    {
     "data": {
      "text/html": [
       "<div>\n",
       "<style scoped>\n",
       "    .dataframe tbody tr th:only-of-type {\n",
       "        vertical-align: middle;\n",
       "    }\n",
       "\n",
       "    .dataframe tbody tr th {\n",
       "        vertical-align: top;\n",
       "    }\n",
       "\n",
       "    .dataframe thead th {\n",
       "        text-align: right;\n",
       "    }\n",
       "</style>\n",
       "<table border=\"1\" class=\"dataframe\">\n",
       "  <thead>\n",
       "    <tr style=\"text-align: right;\">\n",
       "      <th></th>\n",
       "      <th>id</th>\n",
       "      <th>title</th>\n",
       "      <th>url</th>\n",
       "      <th>num_points</th>\n",
       "      <th>num_comments</th>\n",
       "      <th>author</th>\n",
       "      <th>created_at</th>\n",
       "    </tr>\n",
       "  </thead>\n",
       "  <tbody>\n",
       "    <tr>\n",
       "      <th>0</th>\n",
       "      <td>12224879</td>\n",
       "      <td>Interactive Dynamic Video</td>\n",
       "      <td>http://www.interactivedynamicvideo.com/</td>\n",
       "      <td>386</td>\n",
       "      <td>52</td>\n",
       "      <td>ne0phyte</td>\n",
       "      <td>2016-08-04 11:52:00</td>\n",
       "    </tr>\n",
       "    <tr>\n",
       "      <th>1</th>\n",
       "      <td>10975351</td>\n",
       "      <td>How to Use Open Source and Shut the Fuck Up at...</td>\n",
       "      <td>http://hueniverse.com/2016/01/26/how-to-use-op...</td>\n",
       "      <td>39</td>\n",
       "      <td>10</td>\n",
       "      <td>josep2</td>\n",
       "      <td>2016-01-26 19:30:00</td>\n",
       "    </tr>\n",
       "    <tr>\n",
       "      <th>2</th>\n",
       "      <td>11964716</td>\n",
       "      <td>Florida DJs May Face Felony for April Fools' W...</td>\n",
       "      <td>http://www.thewire.com/entertainment/2013/04/f...</td>\n",
       "      <td>2</td>\n",
       "      <td>1</td>\n",
       "      <td>vezycash</td>\n",
       "      <td>2016-06-23 22:20:00</td>\n",
       "    </tr>\n",
       "    <tr>\n",
       "      <th>3</th>\n",
       "      <td>11919867</td>\n",
       "      <td>Technology ventures: From Idea to Enterprise</td>\n",
       "      <td>https://www.amazon.com/Technology-Ventures-Ent...</td>\n",
       "      <td>3</td>\n",
       "      <td>1</td>\n",
       "      <td>hswarna</td>\n",
       "      <td>2016-06-17 00:01:00</td>\n",
       "    </tr>\n",
       "    <tr>\n",
       "      <th>4</th>\n",
       "      <td>10301696</td>\n",
       "      <td>Note by Note: The Making of Steinway L1037 (2007)</td>\n",
       "      <td>http://www.nytimes.com/2007/11/07/movies/07ste...</td>\n",
       "      <td>8</td>\n",
       "      <td>2</td>\n",
       "      <td>walterbell</td>\n",
       "      <td>2015-09-30 04:12:00</td>\n",
       "    </tr>\n",
       "  </tbody>\n",
       "</table>\n",
       "</div>"
      ],
      "text/plain": [
       "         id                                              title  \\\n",
       "0  12224879                          Interactive Dynamic Video   \n",
       "1  10975351  How to Use Open Source and Shut the Fuck Up at...   \n",
       "2  11964716  Florida DJs May Face Felony for April Fools' W...   \n",
       "3  11919867       Technology ventures: From Idea to Enterprise   \n",
       "4  10301696  Note by Note: The Making of Steinway L1037 (2007)   \n",
       "\n",
       "                                                 url  num_points  \\\n",
       "0            http://www.interactivedynamicvideo.com/         386   \n",
       "1  http://hueniverse.com/2016/01/26/how-to-use-op...          39   \n",
       "2  http://www.thewire.com/entertainment/2013/04/f...           2   \n",
       "3  https://www.amazon.com/Technology-Ventures-Ent...           3   \n",
       "4  http://www.nytimes.com/2007/11/07/movies/07ste...           8   \n",
       "\n",
       "   num_comments      author          created_at  \n",
       "0            52    ne0phyte 2016-08-04 11:52:00  \n",
       "1            10      josep2 2016-01-26 19:30:00  \n",
       "2             1    vezycash 2016-06-23 22:20:00  \n",
       "3             1     hswarna 2016-06-17 00:01:00  \n",
       "4             2  walterbell 2015-09-30 04:12:00  "
      ]
     },
     "execution_count": 15,
     "metadata": {},
     "output_type": "execute_result"
    }
   ],
   "source": [
    "hn.head()\n",
    "\n",
    "    "
   ]
  },
  {
   "cell_type": "markdown",
   "metadata": {},
   "source": [
    "filter the data set for Ask HN and Show HN"
   ]
  },
  {
   "cell_type": "code",
   "execution_count": 16,
   "metadata": {
    "collapsed": false
   },
   "outputs": [],
   "source": [
    "\n",
    "ask_posts=hn[hn['title'].apply(lambda x: x.lower().startswith('ask hn'))]\n",
    "show_posts = hn[hn['title'].apply(lambda x: x.lower().startswith('show hn'))]\n",
    "\n",
    "prefixes = ['ask hn','show hn']\n",
    "other_posts = hn[~hn['title'].apply(lambda x: x.lower().startswith(tuple(prefixes)))]\n"
   ]
  },
  {
   "cell_type": "code",
   "execution_count": 17,
   "metadata": {
    "collapsed": false
   },
   "outputs": [
    {
     "name": "stdout",
     "output_type": "stream",
     "text": [
      "Number of posts in Ask, Show and Other:\n",
      "1744 1162 17194\n"
     ]
    }
   ],
   "source": [
    "print('Number of posts in Ask, Show and Other:')\n",
    "print(len(ask_posts), len(show_posts), len(other_posts))"
   ]
  },
  {
   "cell_type": "markdown",
   "metadata": {},
   "source": [
    "Now we will check the total number of comments per each type of post"
   ]
  },
  {
   "cell_type": "code",
   "execution_count": 18,
   "metadata": {
    "collapsed": false
   },
   "outputs": [
    {
     "name": "stdout",
     "output_type": "stream",
     "text": [
      "14.038417431192661 10.31669535283993 26.8730371059672\n"
     ]
    }
   ],
   "source": [
    "tot_comments_ask = ask_posts['num_comments'].sum()\n",
    "tot_comments_show = show_posts['num_comments'].sum()\n",
    "tot_comments_other = other_posts['num_comments'].sum()\n",
    "\n",
    "avg_ask_posts = tot_comments_ask / len(ask_posts)\n",
    "avg_show_posts = tot_comments_show / len(show_posts)\n",
    "avg_other_posts = tot_comments_other / len(other_posts)\n",
    "\n",
    "print (avg_ask_posts, avg_show_posts, avg_other_posts)"
   ]
  },
  {
   "cell_type": "markdown",
   "metadata": {},
   "source": [
    "It seems that Ask posts recevive on average more comments than show posts: 14 vs 10"
   ]
  },
  {
   "cell_type": "markdown",
   "metadata": {},
   "source": [
    "Now we will chek the average number of comments per hour in the Ask Posts\n"
   ]
  },
  {
   "cell_type": "code",
   "execution_count": 32,
   "metadata": {
    "collapsed": false
   },
   "outputs": [
    {
     "name": "stdout",
     "output_type": "stream",
     "text": [
      "created_at\n",
      "0      8.127273\n",
      "1     11.383333\n",
      "2     23.810345\n",
      "3      7.796296\n",
      "4      7.170213\n",
      "5     10.086957\n",
      "6      9.022727\n",
      "7      7.852941\n",
      "8     10.250000\n",
      "9      5.577778\n",
      "10    13.440678\n",
      "11    11.051724\n",
      "12     9.410959\n",
      "13    14.741176\n",
      "14    13.233645\n",
      "15    38.594828\n",
      "16    16.796296\n",
      "17    11.460000\n",
      "18    13.201835\n",
      "19    10.800000\n",
      "20    21.525000\n",
      "21    16.009174\n",
      "22     6.746479\n",
      "23     7.985294\n",
      "Name: num_comments, dtype: float64\n"
     ]
    }
   ],
   "source": [
    "s_hour = ask_posts['created_at'].dt.hour\n",
    "avg_by_hour = ask_posts.groupby(s_hour)['num_comments'].mean()\n",
    "#ask_posts.groupby(s_hour)['num_comments'].mean().plot()\n",
    "print(avg_by_hour)"
   ]
  },
  {
   "cell_type": "markdown",
   "metadata": {},
   "source": [
    "looks like most o fthe comments appear in 15:00"
   ]
  }
 ],
 "metadata": {
  "kernelspec": {
   "display_name": "Python 3",
   "language": "python",
   "name": "python3"
  },
  "language_info": {
   "codemirror_mode": {
    "name": "ipython",
    "version": 3
   },
   "file_extension": ".py",
   "mimetype": "text/x-python",
   "name": "python",
   "nbconvert_exporter": "python",
   "pygments_lexer": "ipython3",
   "version": "3.4.3"
  }
 },
 "nbformat": 4,
 "nbformat_minor": 2
}
