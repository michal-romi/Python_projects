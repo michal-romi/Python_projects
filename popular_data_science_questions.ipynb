{
 "cells": [
  {
   "cell_type": "markdown",
   "metadata": {
    "collapsed": true
   },
   "source": [
    "In this project we will explore https://datascience.stackexchange.com/\n",
    "In this site people post questions relating to data science issues such as how to build specific models, which features to use and how to measure model accuracy\n"
   ]
  },
  {
   "cell_type": "markdown",
   "metadata": {},
   "source": [
    "DSSE has a data base that we can explroe in order to get interesting data about the questiosn and answesr that we see on the site. looking at the database, if we want to look for the most popular content we would focus on the following tables:\n",
    "Posts, \n",
    "Users,\n",
    "Tags,\n",
    "PostTags, \n",
    "Votes, \n"
   ]
  },
  {
   "cell_type": "markdown",
   "metadata": {},
   "source": [
    "First we will explore all the posts of type question (PostTypes.id = 1) from 2019. the query that we will use is this:  \n",
    "select  id,  \n",
    "        PostTypeId,  \n",
    "        CreationDate,  \n",
    "        Score,  \n",
    "        ViewCount,  \n",
    "        Tags,  \n",
    "        AnswerCount,  \n",
    "        FavoriteCount  \n",
    "from Posts  \n",
    "where PostTypeId = 1  \n",
    "and year(CreationDate) = 2019  \n",
    "order by ViewCount desc  \n",
    "\n"
   ]
  },
  {
   "cell_type": "markdown",
   "metadata": {},
   "source": [
    "\n",
    "\n"
   ]
  },
  {
   "cell_type": "code",
   "execution_count": 109,
   "metadata": {
    "collapsed": true
   },
   "outputs": [],
   "source": [
    "import pandas as pd\n",
    "import datetime as dt\n",
    "import matplotlib.pyplot as plt\n",
    "\n",
    "%matplotlib inline"
   ]
  },
  {
   "cell_type": "code",
   "execution_count": 110,
   "metadata": {
    "collapsed": true
   },
   "outputs": [],
   "source": [
    "df = pd.read_csv(\"2019_questions.csv\")"
   ]
  },
  {
   "cell_type": "code",
   "execution_count": 111,
   "metadata": {
    "collapsed": false
   },
   "outputs": [
    {
     "name": "stdout",
     "output_type": "stream",
     "text": [
      "<class 'pandas.core.frame.DataFrame'>\n",
      "RangeIndex: 8839 entries, 0 to 8838\n",
      "Data columns (total 7 columns):\n",
      "Id               8839 non-null int64\n",
      "CreationDate     8839 non-null object\n",
      "Score            8839 non-null int64\n",
      "ViewCount        8839 non-null int64\n",
      "Tags             8839 non-null object\n",
      "AnswerCount      8839 non-null int64\n",
      "FavoriteCount    1407 non-null float64\n",
      "dtypes: float64(1), int64(4), object(2)\n",
      "memory usage: 483.5+ KB\n"
     ]
    }
   ],
   "source": [
    "df.info()"
   ]
  },
  {
   "cell_type": "markdown",
   "metadata": {},
   "source": [
    "When exploring the results of this wuery we see the following:  \n",
    "There are 8839 rows.  \n",
    "All the columns don't have missing values besides FavoriteCount which has 7432 rows with missing values.  \n",
    "We can replace these missing values by putting 0 instead.  \n",
    "The Tags columns consists of html tags with the different tags. we can read the tags to a list so it will be easier to read them.  "
   ]
  },
  {
   "cell_type": "code",
   "execution_count": 112,
   "metadata": {
    "collapsed": false
   },
   "outputs": [
    {
     "data": {
      "text/html": [
       "<div>\n",
       "<style scoped>\n",
       "    .dataframe tbody tr th:only-of-type {\n",
       "        vertical-align: middle;\n",
       "    }\n",
       "\n",
       "    .dataframe tbody tr th {\n",
       "        vertical-align: top;\n",
       "    }\n",
       "\n",
       "    .dataframe thead th {\n",
       "        text-align: right;\n",
       "    }\n",
       "</style>\n",
       "<table border=\"1\" class=\"dataframe\">\n",
       "  <thead>\n",
       "    <tr style=\"text-align: right;\">\n",
       "      <th></th>\n",
       "      <th>Id</th>\n",
       "      <th>CreationDate</th>\n",
       "      <th>Score</th>\n",
       "      <th>ViewCount</th>\n",
       "      <th>Tags</th>\n",
       "      <th>AnswerCount</th>\n",
       "      <th>FavoriteCount</th>\n",
       "    </tr>\n",
       "  </thead>\n",
       "  <tbody>\n",
       "    <tr>\n",
       "      <th>0</th>\n",
       "      <td>44419</td>\n",
       "      <td>2019-01-23 09:21:13</td>\n",
       "      <td>1</td>\n",
       "      <td>21</td>\n",
       "      <td>&lt;machine-learning&gt;&lt;data-mining&gt;</td>\n",
       "      <td>0</td>\n",
       "      <td>NaN</td>\n",
       "    </tr>\n",
       "    <tr>\n",
       "      <th>1</th>\n",
       "      <td>44420</td>\n",
       "      <td>2019-01-23 09:34:01</td>\n",
       "      <td>0</td>\n",
       "      <td>25</td>\n",
       "      <td>&lt;machine-learning&gt;&lt;regression&gt;&lt;linear-regressi...</td>\n",
       "      <td>0</td>\n",
       "      <td>NaN</td>\n",
       "    </tr>\n",
       "    <tr>\n",
       "      <th>2</th>\n",
       "      <td>44423</td>\n",
       "      <td>2019-01-23 09:58:41</td>\n",
       "      <td>2</td>\n",
       "      <td>1651</td>\n",
       "      <td>&lt;python&gt;&lt;time-series&gt;&lt;forecast&gt;&lt;forecasting&gt;</td>\n",
       "      <td>0</td>\n",
       "      <td>NaN</td>\n",
       "    </tr>\n",
       "    <tr>\n",
       "      <th>3</th>\n",
       "      <td>44427</td>\n",
       "      <td>2019-01-23 10:57:09</td>\n",
       "      <td>0</td>\n",
       "      <td>55</td>\n",
       "      <td>&lt;machine-learning&gt;&lt;scikit-learn&gt;&lt;pca&gt;</td>\n",
       "      <td>1</td>\n",
       "      <td>NaN</td>\n",
       "    </tr>\n",
       "    <tr>\n",
       "      <th>4</th>\n",
       "      <td>44428</td>\n",
       "      <td>2019-01-23 11:02:15</td>\n",
       "      <td>0</td>\n",
       "      <td>19</td>\n",
       "      <td>&lt;dataset&gt;&lt;bigdata&gt;&lt;data&gt;&lt;speech-to-text&gt;</td>\n",
       "      <td>0</td>\n",
       "      <td>NaN</td>\n",
       "    </tr>\n",
       "  </tbody>\n",
       "</table>\n",
       "</div>"
      ],
      "text/plain": [
       "      Id         CreationDate  Score  ViewCount  \\\n",
       "0  44419  2019-01-23 09:21:13      1         21   \n",
       "1  44420  2019-01-23 09:34:01      0         25   \n",
       "2  44423  2019-01-23 09:58:41      2       1651   \n",
       "3  44427  2019-01-23 10:57:09      0         55   \n",
       "4  44428  2019-01-23 11:02:15      0         19   \n",
       "\n",
       "                                                Tags  AnswerCount  \\\n",
       "0                    <machine-learning><data-mining>            0   \n",
       "1  <machine-learning><regression><linear-regressi...            0   \n",
       "2       <python><time-series><forecast><forecasting>            0   \n",
       "3              <machine-learning><scikit-learn><pca>            1   \n",
       "4           <dataset><bigdata><data><speech-to-text>            0   \n",
       "\n",
       "   FavoriteCount  \n",
       "0            NaN  \n",
       "1            NaN  \n",
       "2            NaN  \n",
       "3            NaN  \n",
       "4            NaN  "
      ]
     },
     "execution_count": 112,
     "metadata": {},
     "output_type": "execute_result"
    }
   ],
   "source": [
    "df.head()"
   ]
  },
  {
   "cell_type": "markdown",
   "metadata": {},
   "source": [
    "Lets replace th missing values with 0"
   ]
  },
  {
   "cell_type": "code",
   "execution_count": 113,
   "metadata": {
    "collapsed": false
   },
   "outputs": [],
   "source": [
    "df.fillna(0,inplace = True)"
   ]
  },
  {
   "cell_type": "code",
   "execution_count": 114,
   "metadata": {
    "collapsed": false
   },
   "outputs": [
    {
     "name": "stdout",
     "output_type": "stream",
     "text": [
      "<class 'pandas.core.frame.DataFrame'>\n",
      "RangeIndex: 8839 entries, 0 to 8838\n",
      "Data columns (total 7 columns):\n",
      "Id               8839 non-null int64\n",
      "CreationDate     8839 non-null object\n",
      "Score            8839 non-null int64\n",
      "ViewCount        8839 non-null int64\n",
      "Tags             8839 non-null object\n",
      "AnswerCount      8839 non-null int64\n",
      "FavoriteCount    8839 non-null float64\n",
      "dtypes: float64(1), int64(4), object(2)\n",
      "memory usage: 483.5+ KB\n"
     ]
    }
   ],
   "source": [
    "df.info()"
   ]
  },
  {
   "cell_type": "code",
   "execution_count": 115,
   "metadata": {
    "collapsed": false
   },
   "outputs": [],
   "source": [
    "df[\"CreationDate\"] = df[\"CreationDate\"].astype('datetime64[ns]')\n",
    "df[\"FavoriteCount\"] = df[\"FavoriteCount\"].astype('int64')"
   ]
  },
  {
   "cell_type": "code",
   "execution_count": 116,
   "metadata": {
    "collapsed": false
   },
   "outputs": [
    {
     "name": "stdout",
     "output_type": "stream",
     "text": [
      "<class 'pandas.core.frame.DataFrame'>\n",
      "RangeIndex: 8839 entries, 0 to 8838\n",
      "Data columns (total 7 columns):\n",
      "Id               8839 non-null int64\n",
      "CreationDate     8839 non-null datetime64[ns]\n",
      "Score            8839 non-null int64\n",
      "ViewCount        8839 non-null int64\n",
      "Tags             8839 non-null object\n",
      "AnswerCount      8839 non-null int64\n",
      "FavoriteCount    8839 non-null int64\n",
      "dtypes: datetime64[ns](1), int64(5), object(1)\n",
      "memory usage: 483.5+ KB\n"
     ]
    }
   ],
   "source": [
    "df.info()"
   ]
  },
  {
   "cell_type": "code",
   "execution_count": 117,
   "metadata": {
    "collapsed": false
   },
   "outputs": [],
   "source": [
    "\n",
    "df['Tags'] = df['Tags'].str.replace(\"><\",\",\")\n",
    "df['Tags'] = df['Tags'].str.replace(\"<\",\"\")\n",
    "df['Tags'] = df['Tags'].str.replace(\">\",\"\")\n",
    "df['Tags'] = df['Tags'].str.split(',')"
   ]
  },
  {
   "cell_type": "code",
   "execution_count": 118,
   "metadata": {
    "collapsed": false
   },
   "outputs": [
    {
     "name": "stdout",
     "output_type": "stream",
     "text": [
      "0                         [machine-learning, data-mining]\n",
      "1       [machine-learning, regression, linear-regressi...\n",
      "2            [python, time-series, forecast, forecasting]\n",
      "3                   [machine-learning, scikit-learn, pca]\n",
      "4                [dataset, bigdata, data, speech-to-text]\n",
      "5                                           [fuzzy-logic]\n",
      "6       [time-series, anomaly-detection, online-learning]\n",
      "7                                  [matrix-factorisation]\n",
      "8                   [correlation, naive-bayes-classifier]\n",
      "9       [machine-learning, python, deep-learning, kera...\n",
      "10                                     [machine-learning]\n",
      "11                             [machine-learning, theory]\n",
      "12                   [machine-learning, gradient-descent]\n",
      "13      [nlp, clustering, feature-extraction, encoding...\n",
      "14                  [python, scikit-learn, pandas, numpy]\n",
      "15      [python, scikit-learn, decision-trees, accurac...\n",
      "16                                       [python, pandas]\n",
      "17                         [python, deep-learning, keras]\n",
      "18      [machine-learning, reinforcement-learning, q-l...\n",
      "19      [neural-network, deep-learning, image-classifi...\n",
      "20               [r, logistic-regression, regularization]\n",
      "21      [machine-learning, time-series, predictive-mod...\n",
      "22                       [python, keras, tensorflow, gpu]\n",
      "23               [python, pandas, bigdata, data-cleaning]\n",
      "24      [machine-learning, data-cleaning, logistic-reg...\n",
      "25                             [python, object-detection]\n",
      "26      [machine-learning, recommender-system, supervi...\n",
      "27      [machine-learning, deep-learning, nlp, text-mi...\n",
      "28                               [machine-learning-model]\n",
      "29                                [xgboost, apache-spark]\n",
      "                              ...                        \n",
      "8809    [machine-learning, python, neural-network, ker...\n",
      "8810    [feature-engineering, feature-construction, fe...\n",
      "8811                                         [q-learning]\n",
      "8812                         [r, time-series, statistics]\n",
      "8813      [machine-learning, python, scikit-learn, numpy]\n",
      "8814      [machine-learning, deep-learning, scikit-learn]\n",
      "8815                      [keras, cnn, image-recognition]\n",
      "8816                                         [regression]\n",
      "8817    [classification, feature-selection, feature-en...\n",
      "8818                                               [lstm]\n",
      "8819                           [machine-learning, r, gbm]\n",
      "8820          [keras, regression, xgboost, loss-function]\n",
      "8821    [machine-learning, scikit-learn, random-forest...\n",
      "8822                          [python, keras, tensorflow]\n",
      "8823           [machine-learning, cnn, data-augmentation]\n",
      "8824        [machine-learning, regression, random-forest]\n",
      "8825                           [scikit-learn, clustering]\n",
      "8826    [machine-learning, nlp, lstm, word-embeddings,...\n",
      "8827                                               [lstm]\n",
      "8828    [machine-learning, deep-learning, convnet, con...\n",
      "8829    [machine-learning, python, cross-validation, s...\n",
      "8830                                [python, topic-model]\n",
      "8831                             [cnn, audio-recognition]\n",
      "8832                                  [bigdata, accuracy]\n",
      "8833        [machine-learning, deep-learning, perceptron]\n",
      "8834      [pca, dimensionality-reduction, linear-algebra]\n",
      "8835                       [keras, weight-initialization]\n",
      "8836                     [python, visualization, seaborn]\n",
      "8837                                        [time-series]\n",
      "8838                                               [k-nn]\n",
      "Name: Tags, Length: 8839, dtype: object\n"
     ]
    }
   ],
   "source": [
    "print(df['Tags'])"
   ]
  },
  {
   "cell_type": "markdown",
   "metadata": {},
   "source": [
    "In this section we will create a dictionary with all the tags to count how many each tag appears."
   ]
  },
  {
   "cell_type": "code",
   "execution_count": 119,
   "metadata": {
    "collapsed": false
   },
   "outputs": [
    {
     "data": {
      "text/plain": [
       "0       {'ml': 7, 'colab': 18, 'audio-recognition': 25...\n",
       "1       {'ml': 7, 'colab': 18, 'audio-recognition': 25...\n",
       "2       {'ml': 7, 'colab': 18, 'audio-recognition': 25...\n",
       "3       {'ml': 7, 'colab': 18, 'audio-recognition': 25...\n",
       "4       {'ml': 7, 'colab': 18, 'audio-recognition': 25...\n",
       "5       {'ml': 7, 'colab': 18, 'audio-recognition': 25...\n",
       "6       {'ml': 7, 'colab': 18, 'audio-recognition': 25...\n",
       "7       {'ml': 7, 'colab': 18, 'audio-recognition': 25...\n",
       "8       {'ml': 7, 'colab': 18, 'audio-recognition': 25...\n",
       "9       {'ml': 7, 'colab': 18, 'audio-recognition': 25...\n",
       "10      {'ml': 7, 'colab': 18, 'audio-recognition': 25...\n",
       "11      {'ml': 7, 'colab': 18, 'audio-recognition': 25...\n",
       "12      {'ml': 7, 'colab': 18, 'audio-recognition': 25...\n",
       "13      {'ml': 7, 'colab': 18, 'audio-recognition': 25...\n",
       "14      {'ml': 7, 'colab': 18, 'audio-recognition': 25...\n",
       "15      {'ml': 7, 'colab': 18, 'audio-recognition': 25...\n",
       "16      {'ml': 7, 'colab': 18, 'audio-recognition': 25...\n",
       "17      {'ml': 7, 'colab': 18, 'audio-recognition': 25...\n",
       "18      {'ml': 7, 'colab': 18, 'audio-recognition': 25...\n",
       "19      {'ml': 7, 'colab': 18, 'audio-recognition': 25...\n",
       "20      {'ml': 7, 'colab': 18, 'audio-recognition': 25...\n",
       "21      {'ml': 7, 'colab': 18, 'audio-recognition': 25...\n",
       "22      {'ml': 7, 'colab': 18, 'audio-recognition': 25...\n",
       "23      {'ml': 7, 'colab': 18, 'audio-recognition': 25...\n",
       "24      {'ml': 7, 'colab': 18, 'audio-recognition': 25...\n",
       "25      {'ml': 7, 'colab': 18, 'audio-recognition': 25...\n",
       "26      {'ml': 7, 'colab': 18, 'audio-recognition': 25...\n",
       "27      {'ml': 7, 'colab': 18, 'audio-recognition': 25...\n",
       "28      {'ml': 7, 'colab': 18, 'audio-recognition': 25...\n",
       "29      {'ml': 7, 'colab': 18, 'audio-recognition': 25...\n",
       "                              ...                        \n",
       "8809    {'ml': 7, 'colab': 18, 'audio-recognition': 25...\n",
       "8810    {'ml': 7, 'colab': 18, 'audio-recognition': 25...\n",
       "8811    {'ml': 7, 'colab': 18, 'audio-recognition': 25...\n",
       "8812    {'ml': 7, 'colab': 18, 'audio-recognition': 25...\n",
       "8813    {'ml': 7, 'colab': 18, 'audio-recognition': 25...\n",
       "8814    {'ml': 7, 'colab': 18, 'audio-recognition': 25...\n",
       "8815    {'ml': 7, 'colab': 18, 'audio-recognition': 25...\n",
       "8816    {'ml': 7, 'colab': 18, 'audio-recognition': 25...\n",
       "8817    {'ml': 7, 'colab': 18, 'audio-recognition': 25...\n",
       "8818    {'ml': 7, 'colab': 18, 'audio-recognition': 25...\n",
       "8819    {'ml': 7, 'colab': 18, 'audio-recognition': 25...\n",
       "8820    {'ml': 7, 'colab': 18, 'audio-recognition': 25...\n",
       "8821    {'ml': 7, 'colab': 18, 'audio-recognition': 25...\n",
       "8822    {'ml': 7, 'colab': 18, 'audio-recognition': 25...\n",
       "8823    {'ml': 7, 'colab': 18, 'audio-recognition': 25...\n",
       "8824    {'ml': 7, 'colab': 18, 'audio-recognition': 25...\n",
       "8825    {'ml': 7, 'colab': 18, 'audio-recognition': 25...\n",
       "8826    {'ml': 7, 'colab': 18, 'audio-recognition': 25...\n",
       "8827    {'ml': 7, 'colab': 18, 'audio-recognition': 25...\n",
       "8828    {'ml': 7, 'colab': 18, 'audio-recognition': 25...\n",
       "8829    {'ml': 7, 'colab': 18, 'audio-recognition': 25...\n",
       "8830    {'ml': 7, 'colab': 18, 'audio-recognition': 25...\n",
       "8831    {'ml': 7, 'colab': 18, 'audio-recognition': 25...\n",
       "8832    {'ml': 7, 'colab': 18, 'audio-recognition': 25...\n",
       "8833    {'ml': 7, 'colab': 18, 'audio-recognition': 25...\n",
       "8834    {'ml': 7, 'colab': 18, 'audio-recognition': 25...\n",
       "8835    {'ml': 7, 'colab': 18, 'audio-recognition': 25...\n",
       "8836    {'ml': 7, 'colab': 18, 'audio-recognition': 25...\n",
       "8837    {'ml': 7, 'colab': 18, 'audio-recognition': 25...\n",
       "8838    {'ml': 7, 'colab': 18, 'audio-recognition': 25...\n",
       "Name: Tags, Length: 8839, dtype: object"
      ]
     },
     "execution_count": 119,
     "metadata": {},
     "output_type": "execute_result"
    }
   ],
   "source": [
    "tags = {}\n",
    "def count_tags(tag_list):    \n",
    "    for x in tag_list:\n",
    "        \n",
    "        if x in tags:\n",
    "                tags[x] +=1\n",
    "        else:\n",
    "                tags[x] = 1\n",
    "\n",
    "    return tags\n",
    "\n",
    "\n",
    "\n",
    "df['Tags'].apply(count_tags)\n",
    "#sort_tags = sorted(tags.items(), key=lambda x: x[1], reverse=True)\n",
    "\n",
    "\n"
   ]
  },
  {
   "cell_type": "code",
   "execution_count": 120,
   "metadata": {
    "collapsed": false
   },
   "outputs": [],
   "source": [
    "tags = sorted(tags.items(), key=lambda x: x[1], reverse=True)\n"
   ]
  },
  {
   "cell_type": "code",
   "execution_count": 121,
   "metadata": {
    "collapsed": false
   },
   "outputs": [
    {
     "name": "stdout",
     "output_type": "stream",
     "text": [
      "<class 'list'>\n"
     ]
    }
   ],
   "source": [
    "print(type(tags))"
   ]
  },
  {
   "cell_type": "markdown",
   "metadata": {},
   "source": [
    "Print how many times each tag was used:"
   ]
  },
  {
   "cell_type": "code",
   "execution_count": 122,
   "metadata": {
    "collapsed": false
   },
   "outputs": [
    {
     "name": "stdout",
     "output_type": "stream",
     "text": [
      "[('machine-learning', 2693), ('python', 1814), ('deep-learning', 1220), ('neural-network', 1055), ('keras', 935), ('classification', 685), ('tensorflow', 584), ('scikit-learn', 540), ('nlp', 493), ('cnn', 489), ('time-series', 466), ('lstm', 402), ('pandas', 354), ('regression', 347), ('dataset', 340), ('r', 268), ('predictive-modeling', 265), ('clustering', 257), ('statistics', 234), ('machine-learning-model', 224), ('data-mining', 217), ('data', 213), ('image-classification', 211), ('feature-selection', 209), ('reinforcement-learning', 203), ('data-science-model', 186), ('pytorch', 175), ('linear-regression', 175), ('xgboost', 165), ('feature-engineering', 163), ('loss-function', 161), ('random-forest', 159), ('data-cleaning', 157), ('logistic-regression', 154), ('rnn', 149), ('training', 148), ('decision-trees', 145), ('cross-validation', 139), ('svm', 136), ('multiclass-classification', 131), ('prediction', 128), ('visualization', 126), ('optimization', 124), ('natural-language-process', 124), ('computer-vision', 121), ('preprocessing', 120), ('word-embeddings', 117), ('numpy', 117), ('text-mining', 113), ('convnet', 111), ('unsupervised-learning', 110), ('object-detection', 109), ('autoencoder', 106), ('recommender-system', 103), ('convolution', 103), ('gradient-descent', 98), ('bigdata', 95), ('multilabel-classification', 92), ('anomaly-detection', 92), ('recurrent-neural-net', 91), ('accuracy', 89), ('word2vec', 88), ('feature-extraction', 87), ('image-recognition', 86), ('gan', 85), ('pca', 85), ('forecasting', 85), ('supervised-learning', 82), ('k-means', 81), ('dataframe', 81), ('categorical-data', 81), ('correlation', 80), ('matplotlib', 77), ('probability', 76), ('normalization', 74), ('class-imbalance', 73), ('similarity', 72), ('data-analysis', 71), ('transfer-learning', 69), ('overfitting', 69), ('dimensionality-reduction', 69), ('algorithms', 68), ('image-preprocessing', 67), ('evaluation', 66), ('backpropagation', 65), ('orange', 64), ('bert', 64), ('matlab', 62), ('metric', 60), ('feature-scaling', 59), ('hyperparameter-tuning', 59), ('model-selection', 58), ('distribution', 57), ('encoding', 54), ('regularization', 50), ('k-nn', 50), ('boosting', 49), ('outlier', 48), ('graphs', 47), ('generative-models', 46), ('transformer', 45), ('activation-function', 44), ('embeddings', 44), ('distance', 44), ('kaggle', 43), ('nltk', 43), ('missing-data', 43), ('gpu', 42), ('unbalanced-classes', 42), ('hyperparameter', 42), ('naive-bayes-classifier', 42), ('text', 41), ('jupyter', 41), ('pyspark', 40), ('bayesian', 40), ('scipy', 40), ('opencv', 39), ('seaborn', 38), ('faster-rcnn', 38), ('sampling', 38), ('math', 37), ('sentiment-analysis', 37), ('q-learning', 37), ('named-entity-recognition', 36), ('dqn', 36), ('gensim', 36), ('apache-spark', 35), ('grid-search', 35), ('variance', 35), ('sequence-to-sequence', 35), ('mlp', 34), ('forecast', 34), ('information-retrieval', 32), ('image', 32), ('features', 32), ('plotting', 32), ('topic-model', 31), ('tfidf', 31), ('ensemble-modeling', 30), ('deep-network', 29), ('databases', 29), ('sql', 29), ('batch-normalization', 29), ('gridsearchcv', 28), ('labels', 28), ('machine-translation', 28), ('confusion-matrix', 27), ('policy-gradients', 27), ('performance', 27), ('lda', 27), ('kernel', 27), ('smote', 27), ('beginner', 27), ('geospatial', 27), ('csv', 27), ('ocr', 26), ('perceptron', 26), ('attention-mechanism', 26), ('binary', 26), ('audio-recognition', 25), ('language-model', 25), ('sequence', 25), ('ai', 25), ('cost-function', 25), ('matrix-factorisation', 24), ('data-augmentation', 24), ('softmax', 24), ('excel', 24), ('linear-algebra', 24), ('lightgbm', 23), ('mnist', 23), ('ranking', 22), ('matrix', 22), ('yolo', 21), ('actor-critic', 21), ('descriptive-statistics', 21), ('imbalanced-learn', 21), ('vgg16', 21), ('cosine-distance', 21), ('similar-documents', 20), ('spacy', 20), ('anaconda', 20), ('gaussian', 20), ('orange3', 20), ('aws', 20), ('weka', 19), ('dummy-variables', 19), ('association-rules', 19), ('bias', 19), ('colab', 18), ('dbscan', 18), ('reference-request', 18), ('ipython', 18), ('semi-supervised-learning', 18), ('classifier', 18), ('noise', 17), ('sequential-pattern-mining', 17), ('text-generation', 17), ('convergence', 17), ('pipelines', 17), ('google', 17), ('openai-gym', 17), ('error-handling', 17), ('finance', 17), ('mathematics', 17), ('terminology', 16), ('neural', 16), ('feature-construction', 16), ('genetic-algorithms', 16), ('data-imputation', 16), ('data-wrangling', 15), ('churn', 15), ('rstudio', 15), ('dropout', 15), ('monte-carlo', 15), ('tsne', 15), ('java', 14), ('object-recognition', 14), ('weighted-data', 14), ('markov-process', 14), ('chatbot', 14), ('vae', 14), ('score', 14), ('python-3.x', 13), ('apache-hadoop', 13), ('online-learning', 13), ('markov-hidden-model', 13), ('fuzzy-logic', 13), ('hardware', 12), ('market-basket-analysis', 12), ('bayesian-networks', 12), ('azure-ml', 12), ('generalization', 12), ('gaussian-process', 12), ('weight-initialization', 12), ('annotation', 12), ('scoring', 12), ('aggregation', 12), ('theory', 11), ('probability-calibration', 11), ('ensemble-learning', 11), ('social-network-analysis', 11), ('arima', 11), ('evolutionary-algorithms', 11), ('research', 11), ('simulation', 11), ('epochs', 11), ('clusters', 10), ('survival-analysis', 10), ('gbm', 10), ('json', 10), ('methodology', 10), ('mini-batch-gradient-descent', 10), ('learning', 10), ('inception', 10), ('powerbi', 10), ('explainable-ai', 10), ('automatic-summarization', 10), ('pickle', 9), ('tableau', 9), ('reshape', 9), ('data-formats', 9), ('implementation', 9), ('scala', 9), ('career', 9), ('predictor-importance', 9), ('representation', 9), ('stanford-nlp', 9), ('heatmap', 9), ('information-theory', 9), ('nlg', 9), ('probabilistic-programming', 9), ('cloud-computing', 9), ('3d-reconstruction', 9), ('self-study', 8), ('estimators', 8), ('data-leakage', 8), ('tools', 8), ('web-scrapping', 8), ('neural-style-transfer', 8), ('twitter', 8), ('parallel', 8), ('mse', 8), ('learning-rate', 8), ('speech-to-text', 8), ('regex', 8), ('javascript', 8), ('lasso', 8), ('sagemaker', 8), ('ml', 7), ('ridge-regression', 7), ('hinge-loss', 7), ('stacked-lstm', 7), ('distributed', 7), ('multitask-learning', 7), ('deepmind', 7), ('finetuning', 7), ('historgram', 7), ('multi-output', 7), ('books', 7), ('ensemble', 7), ('vector-space-models', 7), ('programming', 7), ('relational-dbms', 7), ('game', 7), ('caffe', 7), ('hierarchical-data-format', 7), ('nvidia', 7), ('ngrams', 7), ('cloud', 6), ('keras-rl', 6), ('sas', 6), ('pac-learning', 6), ('numerical', 6), ('dplyr', 6), ('collinearity', 6), ('inceptionresnetv2', 6), ('tokenization', 6), ('project-planning', 6), ('randomized-algorithms', 6), ('fastai', 6), ('indexing', 6), ('interpolation', 6), ('etl', 6), ('image-size', 6), ('learning-to-rank', 6), ('marketing', 6), ('parameter-estimation', 6), ('ab-test', 6), ('privacy', 6), ('activity-recognition', 5), ('discriminant-analysis', 5), ('discounted-reward', 5), ('alex-net', 5), ('vc-theory', 5), ('linux', 5), ('ndcg', 5), ('svr', 5), ('mutual-information', 5), ('sensors', 5), ('structured-data', 5), ('processing', 5), ('expectation-maximization', 5), ('difference', 5), ('search', 5), ('rbf', 5), ('code', 5), ('parameter', 5), ('time', 5), ('scraping', 5), ('objective-function', 4), ('h2o', 4), ('definitions', 4), ('mcmc', 4), ('methods', 4), ('automation', 4), ('torch', 4), ('pooling', 4), ('data-stream-mining', 4), ('feature-reduction', 4), ('theano', 4), ('one-hot-encoding', 4), ('bioinformatics', 4), ('markov', 4), ('dirichlet', 4), ('pip', 4), ('smotenc', 4), ('question-answering', 4), ('notation', 4), ('anomaly', 4), ('data.table', 4), ('jaccard-coefficient', 4), ('octave', 4), ('software-recommendation', 4), ('rbm', 4), ('scalability', 4), ('active-learning', 4), ('search-engine', 4), ('c', 4), ('siamese-networks', 4), ('homework', 4), ('non-parametric', 3), ('anonymization', 3), ('tesseract', 3), ('crawling', 3), ('serialisation', 3), ('image-segmentation', 3), ('glm', 3), ('momentum', 3), ('experiments', 3), ('doc2vec', 3), ('manhattan', 3), ('sports', 3), ('graphical-model', 3), ('auc', 3), ('wolfram-language', 3), ('density-estimation', 3), ('categorical-encoding', 3), ('counts', 3), ('coursera', 3), ('nosql', 3), ('education', 3), ('predict', 3), ('meta-learning', 3), ('data-product', 3), ('domain-adaptation', 3), ('parsing', 3), ('dynamic-programming', 3), ('fuzzy-classification', 3), ('map-reduce', 3), ('self-driving', 3), ('pruning', 3), ('ggplot2', 3), ('google-prediction-api', 2), ('anova', 2), ('multi-instance-learning', 2), ('competitions', 2), ('huggingface', 2), ('bayesian-nonparametric', 2), ('word', 2), ('mean-shift', 2), ('pytorch-geometric', 2), ('spss', 2), ('usecase', 2), ('one-shot-learning', 2), ('sparsity', 2), ('gmm', 2), ('causalimpact', 2), ('categories', 2), ('allennlp', 2), ('finite-precision', 2), ('mongodb', 2), ('automl', 2), ('software-development', 2), ('dialog-flow', 2), ('library', 2), ('networkx', 2), ('julia', 2), ('ann', 2), ('infographics', 2), ('genetic-programming', 2), ('stemming', 2), ('sematic-similarity', 2), ('metadata', 2), ('groupby', 2), ('pearsons-correlation-coefficient', 2), ('feature-map', 2), ('lbp', 2), ('text-filter', 2), ('management', 2), ('efficiency', 2), ('movielens', 2), ('openai-gpt', 2), ('open-set', 2), ('hive', 2), ('aws-lambda', 2), ('helmert-coding', 1), ('pattern-recognition', 1), ('noisification', 1), ('libsvm', 1), ('state-of-the-art', 1), ('nn', 1), ('cause-effect-relations', 1), ('activation', 1), ('rmse', 1), ('wikipedia', 1), ('goss', 1), ('ibm-watson', 1), ('cs231n', 1), ('statsmodels', 1), ('marginal-effects', 1), ('data-indexing-techniques', 1), ('refit-model', 1), ('manifold', 1), ('non-convex', 1), ('rdkit', 1), ('summarunner-architecture', 1), ('adaboost', 1), ('pgm', 1), ('.net', 1), ('counter-inference', 1), ('dump', 1), ('label-smoothing', 1), ('james-stein-encoder', 1), ('least-squares-svm', 1), ('hurdle-model', 1), ('kendalls-tau-coefficient', 1), ('version-control', 1), ('encoder', 1), ('siamese', 1), ('proximal-svm', 1), ('bayes-error', 1), ('kitti-dataset', 1), ('consumerweb', 1), ('normal-equation', 1), ('rmsle', 1), ('c++', 1), ('parquet', 1), ('nl2sql', 1), ('exploitation', 1), ('haar-cascade', 1), ('knime', 1), ('frequentist', 1), ('xboost', 1), ('history', 1), ('impala', 1), ('spearmans-rank-correlation', 1), ('google-cloud', 1), ('unseen-data', 1), ('gru', 1), ('text-classification', 1), ('label-flipping', 1), ('paperspace', 1), ('3d-object-detection', 1), ('corpus', 1), ('lda-classifier', 1), ('multivariate-distribution', 1), ('community', 1), ('apache-nifi', 1), ('open-source', 1), ('redshift', 1), ('amazon-ml', 1), ('hog', 1), ('spyder', 1), ('pathfinder', 1), ('data-transfer', 1)]\n"
     ]
    }
   ],
   "source": [
    "\n",
    "print(tags)"
   ]
  },
  {
   "cell_type": "markdown",
   "metadata": {},
   "source": [
    "Print a bar chart to show the top ten used tags"
   ]
  },
  {
   "cell_type": "code",
   "execution_count": 123,
   "metadata": {
    "collapsed": false
   },
   "outputs": [
    {
     "data": {
      "image/png": "[encoded data removed]",
      "text/plain": [
       "<matplotlib.figure.Figure at 0x7ff6389d1160>"
      ]
     },
     "metadata": {},
     "output_type": "display_data"
    }
   ],
   "source": [
    "sort_tags = tags[0:10]\n",
    "plt.bar(range(len(sort_tags)), [val[1] for val in sort_tags])\n",
    "plt.xticks(range(len(sort_tags)), [val[0] for val in sort_tags])\n",
    "plt.xticks(rotation=70)\n",
    "plt.show()"
   ]
  },
  {
   "cell_type": "markdown",
   "metadata": {},
   "source": [
    "Now we will check how many times each tag was viewed. For this we will search each tag in every post and if it appears in that post we will accumulate the total views of the post."
   ]
  },
  {
   "cell_type": "code",
   "execution_count": 124,
   "metadata": {
    "collapsed": false
   },
   "outputs": [],
   "source": [
    "tag_list = [val[0] for val in tags]"
   ]
  },
  {
   "cell_type": "code",
   "execution_count": 125,
   "metadata": {
    "collapsed": false
   },
   "outputs": [
    {
     "name": "stdout",
     "output_type": "stream",
     "text": [
      "['machine-learning', 'python', 'deep-learning', 'neural-network', 'keras', 'classification', 'tensorflow', 'scikit-learn', 'nlp', 'cnn', 'time-series', 'lstm', 'pandas', 'regression', 'dataset', 'r', 'predictive-modeling', 'clustering', 'statistics', 'machine-learning-model', 'data-mining', 'data', 'image-classification', 'feature-selection', 'reinforcement-learning', 'data-science-model', 'pytorch', 'linear-regression', 'xgboost', 'feature-engineering', 'loss-function', 'random-forest', 'data-cleaning', 'logistic-regression', 'rnn', 'training', 'decision-trees', 'cross-validation', 'svm', 'multiclass-classification', 'prediction', 'visualization', 'optimization', 'natural-language-process', 'computer-vision', 'preprocessing', 'word-embeddings', 'numpy', 'text-mining', 'convnet', 'unsupervised-learning', 'object-detection', 'autoencoder', 'recommender-system', 'convolution', 'gradient-descent', 'bigdata', 'multilabel-classification', 'anomaly-detection', 'recurrent-neural-net', 'accuracy', 'word2vec', 'feature-extraction', 'image-recognition', 'gan', 'pca', 'forecasting', 'supervised-learning', 'k-means', 'dataframe', 'categorical-data', 'correlation', 'matplotlib', 'probability', 'normalization', 'class-imbalance', 'similarity', 'data-analysis', 'transfer-learning', 'overfitting', 'dimensionality-reduction', 'algorithms', 'image-preprocessing', 'evaluation', 'backpropagation', 'orange', 'bert', 'matlab', 'metric', 'feature-scaling', 'hyperparameter-tuning', 'model-selection', 'distribution', 'encoding', 'regularization', 'k-nn', 'boosting', 'outlier', 'graphs', 'generative-models', 'transformer', 'activation-function', 'embeddings', 'distance', 'kaggle', 'nltk', 'missing-data', 'gpu', 'unbalanced-classes', 'hyperparameter', 'naive-bayes-classifier', 'text', 'jupyter', 'pyspark', 'bayesian', 'scipy', 'opencv', 'seaborn', 'faster-rcnn', 'sampling', 'math', 'sentiment-analysis', 'q-learning', 'named-entity-recognition', 'dqn', 'gensim', 'apache-spark', 'grid-search', 'variance', 'sequence-to-sequence', 'mlp', 'forecast', 'information-retrieval', 'image', 'features', 'plotting', 'topic-model', 'tfidf', 'ensemble-modeling', 'deep-network', 'databases', 'sql', 'batch-normalization', 'gridsearchcv', 'labels', 'machine-translation', 'confusion-matrix', 'policy-gradients', 'performance', 'lda', 'kernel', 'smote', 'beginner', 'geospatial', 'csv', 'ocr', 'perceptron', 'attention-mechanism', 'binary', 'audio-recognition', 'language-model', 'sequence', 'ai', 'cost-function', 'matrix-factorisation', 'data-augmentation', 'softmax', 'excel', 'linear-algebra', 'lightgbm', 'mnist', 'ranking', 'matrix', 'yolo', 'actor-critic', 'descriptive-statistics', 'imbalanced-learn', 'vgg16', 'cosine-distance', 'similar-documents', 'spacy', 'anaconda', 'gaussian', 'orange3', 'aws', 'weka', 'dummy-variables', 'association-rules', 'bias', 'colab', 'dbscan', 'reference-request', 'ipython', 'semi-supervised-learning', 'classifier', 'noise', 'sequential-pattern-mining', 'text-generation', 'convergence', 'pipelines', 'google', 'openai-gym', 'error-handling', 'finance', 'mathematics', 'terminology', 'neural', 'feature-construction', 'genetic-algorithms', 'data-imputation', 'data-wrangling', 'churn', 'rstudio', 'dropout', 'monte-carlo', 'tsne', 'java', 'object-recognition', 'weighted-data', 'markov-process', 'chatbot', 'vae', 'score', 'python-3.x', 'apache-hadoop', 'online-learning', 'markov-hidden-model', 'fuzzy-logic', 'hardware', 'market-basket-analysis', 'bayesian-networks', 'azure-ml', 'generalization', 'gaussian-process', 'weight-initialization', 'annotation', 'scoring', 'aggregation', 'theory', 'probability-calibration', 'ensemble-learning', 'social-network-analysis', 'arima', 'evolutionary-algorithms', 'research', 'simulation', 'epochs', 'clusters', 'survival-analysis', 'gbm', 'json', 'methodology', 'mini-batch-gradient-descent', 'learning', 'inception', 'powerbi', 'explainable-ai', 'automatic-summarization', 'pickle', 'tableau', 'reshape', 'data-formats', 'implementation', 'scala', 'career', 'predictor-importance', 'representation', 'stanford-nlp', 'heatmap', 'information-theory', 'nlg', 'probabilistic-programming', 'cloud-computing', '3d-reconstruction', 'self-study', 'estimators', 'data-leakage', 'tools', 'web-scrapping', 'neural-style-transfer', 'twitter', 'parallel', 'mse', 'learning-rate', 'speech-to-text', 'regex', 'javascript', 'lasso', 'sagemaker', 'ml', 'ridge-regression', 'hinge-loss', 'stacked-lstm', 'distributed', 'multitask-learning', 'deepmind', 'finetuning', 'historgram', 'multi-output', 'books', 'ensemble', 'vector-space-models', 'programming', 'relational-dbms', 'game', 'caffe', 'hierarchical-data-format', 'nvidia', 'ngrams', 'cloud', 'keras-rl', 'sas', 'pac-learning', 'numerical', 'dplyr', 'collinearity', 'inceptionresnetv2', 'tokenization', 'project-planning', 'randomized-algorithms', 'fastai', 'indexing', 'interpolation', 'etl', 'image-size', 'learning-to-rank', 'marketing', 'parameter-estimation', 'ab-test', 'privacy', 'activity-recognition', 'discriminant-analysis', 'discounted-reward', 'alex-net', 'vc-theory', 'linux', 'ndcg', 'svr', 'mutual-information', 'sensors', 'structured-data', 'processing', 'expectation-maximization', 'difference', 'search', 'rbf', 'code', 'parameter', 'time', 'scraping', 'objective-function', 'h2o', 'definitions', 'mcmc', 'methods', 'automation', 'torch', 'pooling', 'data-stream-mining', 'feature-reduction', 'theano', 'one-hot-encoding', 'bioinformatics', 'markov', 'dirichlet', 'pip', 'smotenc', 'question-answering', 'notation', 'anomaly', 'data.table', 'jaccard-coefficient', 'octave', 'software-recommendation', 'rbm', 'scalability', 'active-learning', 'search-engine', 'c', 'siamese-networks', 'homework', 'non-parametric', 'anonymization', 'tesseract', 'crawling', 'serialisation', 'image-segmentation', 'glm', 'momentum', 'experiments', 'doc2vec', 'manhattan', 'sports', 'graphical-model', 'auc', 'wolfram-language', 'density-estimation', 'categorical-encoding', 'counts', 'coursera', 'nosql', 'education', 'predict', 'meta-learning', 'data-product', 'domain-adaptation', 'parsing', 'dynamic-programming', 'fuzzy-classification', 'map-reduce', 'self-driving', 'pruning', 'ggplot2', 'google-prediction-api', 'anova', 'multi-instance-learning', 'competitions', 'huggingface', 'bayesian-nonparametric', 'word', 'mean-shift', 'pytorch-geometric', 'spss', 'usecase', 'one-shot-learning', 'sparsity', 'gmm', 'causalimpact', 'categories', 'allennlp', 'finite-precision', 'mongodb', 'automl', 'software-development', 'dialog-flow', 'library', 'networkx', 'julia', 'ann', 'infographics', 'genetic-programming', 'stemming', 'sematic-similarity', 'metadata', 'groupby', 'pearsons-correlation-coefficient', 'feature-map', 'lbp', 'text-filter', 'management', 'efficiency', 'movielens', 'openai-gpt', 'open-set', 'hive', 'aws-lambda', 'helmert-coding', 'pattern-recognition', 'noisification', 'libsvm', 'state-of-the-art', 'nn', 'cause-effect-relations', 'activation', 'rmse', 'wikipedia', 'goss', 'ibm-watson', 'cs231n', 'statsmodels', 'marginal-effects', 'data-indexing-techniques', 'refit-model', 'manifold', 'non-convex', 'rdkit', 'summarunner-architecture', 'adaboost', 'pgm', '.net', 'counter-inference', 'dump', 'label-smoothing', 'james-stein-encoder', 'least-squares-svm', 'hurdle-model', 'kendalls-tau-coefficient', 'version-control', 'encoder', 'siamese', 'proximal-svm', 'bayes-error', 'kitti-dataset', 'consumerweb', 'normal-equation', 'rmsle', 'c++', 'parquet', 'nl2sql', 'exploitation', 'haar-cascade', 'knime', 'frequentist', 'xboost', 'history', 'impala', 'spearmans-rank-correlation', 'google-cloud', 'unseen-data', 'gru', 'text-classification', 'label-flipping', 'paperspace', '3d-object-detection', 'corpus', 'lda-classifier', 'multivariate-distribution', 'community', 'apache-nifi', 'open-source', 'redshift', 'amazon-ml', 'hog', 'spyder', 'pathfinder', 'data-transfer']\n"
     ]
    }
   ],
   "source": [
    "print(tag_list)"
   ]
  },
  {
   "cell_type": "code",
   "execution_count": 128,
   "metadata": {
    "collapsed": true
   },
   "outputs": [
    {
     "data": {
      "text/plain": [
       "0       None\n",
       "1       None\n",
       "2       None\n",
       "3       None\n",
       "4       None\n",
       "5       None\n",
       "6       None\n",
       "7       None\n",
       "8       None\n",
       "9       None\n",
       "10      None\n",
       "11      None\n",
       "12      None\n",
       "13      None\n",
       "14      None\n",
       "15      None\n",
       "16      None\n",
       "17      None\n",
       "18      None\n",
       "19      None\n",
       "20      None\n",
       "21      None\n",
       "22      None\n",
       "23      None\n",
       "24      None\n",
       "25      None\n",
       "26      None\n",
       "27      None\n",
       "28      None\n",
       "29      None\n",
       "        ... \n",
       "8809    None\n",
       "8810    None\n",
       "8811    None\n",
       "8812    None\n",
       "8813    None\n",
       "8814    None\n",
       "8815    None\n",
       "8816    None\n",
       "8817    None\n",
       "8818    None\n",
       "8819    None\n",
       "8820    None\n",
       "8821    None\n",
       "8822    None\n",
       "8823    None\n",
       "8824    None\n",
       "8825    None\n",
       "8826    None\n",
       "8827    None\n",
       "8828    None\n",
       "8829    None\n",
       "8830    None\n",
       "8831    None\n",
       "8832    None\n",
       "8833    None\n",
       "8834    None\n",
       "8835    None\n",
       "8836    None\n",
       "8837    None\n",
       "8838    None\n",
       "Length: 8839, dtype: object"
      ]
     },
     "execution_count": 128,
     "metadata": {},
     "output_type": "execute_result"
    }
   ],
   "source": [
    "tot_view = {}\n",
    "def count_views(row):  \n",
    "    views = row['ViewCount']\n",
    "    tag_col = row['Tags']\n",
    "    for x in tag_col:\n",
    "        if x in tot_view:\n",
    "            tot_view[x] += views\n",
    "        else:\n",
    "            tot_view[x] = views\n",
    " \n",
    "\n",
    "df.apply(count_views, axis=1)\n"
   ]
  },
  {
   "cell_type": "code",
   "execution_count": 129,
   "metadata": {
    "collapsed": false
   },
   "outputs": [
    {
     "name": "stdout",
     "output_type": "stream",
     "text": [
      "{'ml': 569, 'colab': 2532, 'audio-recognition': 2195, 'java': 745, 'confusion-matrix': 8261, 'non-parametric': 70, 'google-prediction-api': 44, 'encoding': 18843, 'dbscan': 4449, 'anova': 70, 'seaborn': 32244, 'clusters': 506, 'helmert-coding': 26, 'objective-function': 75, 'word-embeddings': 18632, 'pattern-recognition': 23, 'activity-recognition': 126, 'survival-analysis': 1711, 'gbm': 1457, 'noisification': 9, 'pickle': 803, 'reference-request': 863, 'libsvm': 54, 'outlier': 8173, 'python-3.x': 452, 'cloud': 395, 'tableau': 287, 'discriminant-analysis': 464, 'activation-function': 13121, 'graphs': 4947, 'yolo': 3735, 'state-of-the-art': 17, 'nn': 115, 'transformer': 16305, 'actor-critic': 1014, 'keras-rl': 673, 'ocr': 2245, 'discounted-reward': 368, 'object-recognition': 2157, 'word2vec': 15979, 'reshape': 414, 'anonymization': 381, 'ridge-regression': 607, 'model-selection': 3604, 'h2o': 539, 'cause-effect-relations': 42, 'tesseract': 65, 'multi-instance-learning': 72, 'kaggle': 10972, 'hardware': 1158, 'definitions': 155, 'competitions': 125, 'activation': 15, 'theory': 375, 'matrix-factorisation': 906, 'terminology': 1269, 'preprocessing': 18843, 'huggingface': 133, 'regularization': 4941, 'weka': 1068, 'rmse': 17, 'market-basket-analysis': 969, 'wikipedia': 23, 'bayesian-nonparametric': 29, 'descriptive-statistics': 2665, 'data-wrangling': 9282, 'random-forest': 15780, 'image-recognition': 10873, 'transfer-learning': 11455, 'goss': 32, 'mcmc': 64, 'ibm-watson': 146, 'sas': 294, 'word': 130, 'self-study': 1162, 'similar-documents': 4972, 'estimators': 289, 'embeddings': 4055, 'data-formats': 28644, 'hinge-loss': 488, 'noise': 1722, 'text-mining': 14036, 'nltk': 8638, 'sequential-pattern-mining': 524, 'implementation': 616, 'apache-hadoop': 466, 'cs231n': 24, 'scala': 1445, 'mean-shift': 124, 'statsmodels': 9, 'career': 1553, 'methods': 3790, 'regression': 49451, 'crawling': 67, 'marginal-effects': 12, 'stacked-lstm': 299, 'serialisation': 1700, 'pac-learning': 529, 'numerical': 546, 'orange': 4378, 'topic-model': 2352, 'distributed': 227, 'data-indexing-techniques': 47, 'backpropagation': 9958, 'dummy-variables': 3775, 'statistics': 19289, 'nlp': 71382, 'refit-model': 37, 'image-segmentation': 98, 'probability-calibration': 1094, 'predictor-importance': 609, 'imbalanced-learn': 3183, 'alex-net': 208, 'vc-theory': 565, 'glm': 186, 'bayesian-networks': 786, 'dplyr': 2485, 'data-augmentation': 3861, 'linux': 2309, 'apache-spark': 4598, 'collinearity': 505, 'manifold': 80, 'json': 3418, 'methodology': 259, 'non-convex': 11, 'text-generation': 2947, 'pytorch-geometric': 174, 'data-leakage': 808, 'spss': 50, 'multilabel-classification': 9734, 'momentum': 109, 'rdkit': 15, 'overfitting': 13070, 'policy-gradients': 1429, 'xgboost': 31533, 'ranking': 1126, 'tensorflow': 121369, 'gpu': 22900, 'experiments': 56, 'doc2vec': 86, 'automation': 142, 'usecase': 46, 'torch': 213, 'pyspark': 5329, 'reinforcement-learning': 20101, 'tools': 1599, 'summarunner-architecture': 45, 'multitask-learning': 708, 'ndcg': 578, 'convnet': 14292, 'k-means': 15448, 'pooling': 160, 'inceptionresnetv2': 992, 'one-shot-learning': 85, 'adaboost': 23, 'information-retrieval': 3153, 'manhattan': 152, 'churn': 1006, 'sports': 59, 'data-stream-mining': 583, 'gridsearchcv': 7218, 'performance': 1996, 'deepmind': 1091, 'ensemble-modeling': 1283, 'feature-reduction': 355, 'pgm': 19, '.net': 438, 'visualization': 18953, 'computer-vision': 32502, 'gan': 13885, 'graphical-model': 292, 'mini-batch-gradient-descent': 526, 'finetuning': 304, 'training': 18215, 'historgram': 4837, 'ensemble-learning': 342, 'dimensionality-reduction': 6021, 'counter-inference': 58, 'anomaly-detection': 10992, 'similarity': 11663, 'multi-output': 504, 'sparsity': 25, 'gmm': 76, 'causalimpact': 107, 'dump': 23, 'label-smoothing': 480, 'deep-learning': 233628, 'james-stein-encoder': 26, 'least-squares-svm': 110, 'dataset': 43151, 'books': 1045, 'ensemble': 422, 'weighted-data': 2664, 'softmax': 3306, 'social-network-analysis': 335, 'autoencoder': 15676, 'online-learning': 1485, 'web-scrapping': 292, 'hurdle-model': 12, 'svr': 601, 'matrix': 2911, 'arima': 1004, 'recurrent-neural-net': 13222, 'spacy': 3387, 'theano': 166, 'categories': 42, 'deep-network': 2686, 'azure-ml': 694, 'language-model': 2591, 'one-hot-encoding': 104, 'ipython': 5075, 'perceptron': 2231, 'tokenization': 1178, 'learning': 893, 'kendalls-tau-coefficient': 474, 'correlation': 9403, 'vector-space-models': 1427, 'feature-scaling': 7717, 'pandas': 201787, 'lda': 3383, 'version-control': 94, 'semi-supervised-learning': 766, 'lightgbm': 5344, 'mutual-information': 248, 'markov-process': 388, 'allennlp': 183, 'finite-precision': 55, 'auc': 67, 'sensors': 133, 'vgg16': 2643, 'encoder': 16, 'math': 1935, 'siamese': 65, 'kernel': 2215, 'bioinformatics': 118, 'evolutionary-algorithms': 524, 'data-analysis': 10413, 'markov': 183, 'keras': 268608, 'mongodb': 40, 'generalization': 466, 'markov-hidden-model': 588, 'optimization': 14316, 'rstudio': 1278, 'neural-style-transfer': 226, 'feature-engineering': 16384, 'automl': 85, 'proximal-svm': 110, 'anaconda': 10476, 'text': 4166, 'wolfram-language': 286, 'python': 537585, 'representation': 503, 'project-planning': 249, 'stanford-nlp': 1544, 'boosting': 6544, 'accuracy': 15233, 'grid-search': 5487, 'randomized-algorithms': 2185, 'predictive-modeling': 16949, 'variance': 3669, 'bayes-error': 128, 'neural': 4553, 'dirichlet': 275, 'recommender-system': 9670, 'attention-mechanism': 15165, 'bayesian': 3171, 'feature-extraction': 12795, 'heatmap': 661, 'structured-data': 475, 'software-development': 562, 'kitti-dataset': 7, 'gaussian-process': 471, 'information-theory': 258, 'dialog-flow': 51, 'gaussian': 3076, 'consumerweb': 24, 'sequence': 3393, 'normal-equation': 103, 'density-estimation': 1020, 'fuzzy-logic': 1264, 'association-rules': 1022, 'feature-construction': 2377, 'time-series': 64134, 'nlg': 599, 'research': 621, 'scipy': 6899, 'categorical-encoding': 93, 'pytorch': 40240, 'numpy': 49767, 'machine-learning': 388499, 'classifier': 5755, 'weight-initialization': 440, 'rmsle': 17, 'data': 17888, 'twitter': 172, 'c++': 24, 'counts': 113, 'chatbot': 1146, 'parallel': 496, 'convergence': 1505, 'library': 23, 'pipelines': 2194, 'networkx': 280, 'fastai': 357, 'pca': 6387, 'matlab': 6603, 'genetic-algorithms': 943, 'parquet': 17, 'coursera': 193, 'nl2sql': 14, 'named-entity-recognition': 3795, 'exploitation': 12, 'probabilistic-programming': 633, 'julia': 263, 'ai': 3432, 'mlp': 5376, 'nosql': 33, 'data-science-model': 23209, 'haar-cascade': 16, 'pip': 495, 'clustering': 33928, 'knime': 36, 'cosine-distance': 5550, 'natural-language-process': 8823, 'frequentist': 11, 'distribution': 3996, 'binary': 5527, 'loss-function': 23160, 'missing-data': 9711, 'sentiment-analysis': 3621, 'databases': 2198, 'google': 1512, 'programming': 1134, 'processing': 151, 'vae': 4256, 'sql': 4660, 'mse': 224, 'linear-regression': 18978, 'ann': 74, 'xboost': 71, 'image': 4322, 'history': 20, 'labels': 2737, 'decision-trees': 20613, 'scikit-learn': 128110, 'generative-models': 2715, 'impala': 19, 'bigdata': 12918, 'infographics': 105, 'education': 104, 'excel': 16920, 'genetic-programming': 202, 'svm': 13928, 'predict': 78, 'spearmans-rank-correlation': 474, 'smote': 5206, 'google-cloud': 19, 'forecast': 8153, 'inception': 1347, 'unseen-data': 35, 'annotation': 1043, 'unbalanced-classes': 5694, 'powerbi': 366, 'smotenc': 929, 'stemming': 123, 'indexing': 3590, 'question-answering': 162, 'machine-learning-model': 22753, 'beginner': 2281, 'notation': 323, 'k-nn': 4742, 'cnn': 70349, 'q-learning': 3315, 'supervised-learning': 6886, 'openai-gym': 2884, 'meta-learning': 165, 'lstm': 74458, 'anomaly': 352, 'expectation-maximization': 128, 'data.table': 10754, 'relational-dbms': 74, 'learning-rate': 2919, 'sematic-similarity': 76, 'tfidf': 3996, 'data-product': 299, 'gru': 16, 'mnist': 3303, 'image-preprocessing': 8577, 'difference': 8033, 'metadata': 130, 'groupby': 57, 'domain-adaptation': 109, 'distance': 5890, 'rnn': 17946, 'text-classification': 32, 'class-imbalance': 16952, 'faster-rcnn': 3866, 'cloud-computing': 332, 'matplotlib': 25968, 'cross-validation': 19733, 'pearsons-correlation-coefficient': 557, 'interpolation': 767, 'bias': 2958, 'label-flipping': 480, 'paperspace': 12, 'error-handling': 1112, '3d-object-detection': 7, 'explainable-ai': 683, 'parsing': 195, 'geospatial': 1818, 'corpus': 23, 'lda-classifier': 68, '3d-reconstruction': 1129, 'classification': 104457, 'machine-translation': 1544, 'feature-selection': 29128, 'dynamic-programming': 829, 'data-imputation': 2297, 'simulation': 719, 'etl': 386, 'score': 1089, 'fuzzy-classification': 292, 'hyperparameter': 4093, 'dropout': 6703, 'jaccard-coefficient': 634, 'monte-carlo': 3737, 'game': 480, 'search': 167, 'dqn': 3506, 'gensim': 6928, 'convolution': 14575, 'feature-map': 72, 'lbp': 23, 'epochs': 8115, 'data-cleaning': 27529, 'map-reduce': 104, 'multivariate-distribution': 4, 'r': 33684, 'rbf': 359, 'neural-network': 185367, 'octave': 199, 'self-driving': 88, 'dataframe': 89352, 'text-filter': 47, 'management': 68, 'software-recommendation': 578, 'community': 42, 'efficiency': 30, 'rbm': 132, 'features': 2114, 'speech-to-text': 281, 'apache-nifi': 119, 'pruning': 111, 'image-size': 199, 'scalability': 1647, 'active-learning': 155, 'finance': 2354, 'batch-normalization': 4913, 'open-source': 21, 'movielens': 716, 'caffe': 388, 'forecasting': 8797, 'automatic-summarization': 581, 'redshift': 19, 'learning-to-rank': 732, 'code': 289, 'gradient-descent': 14837, 'bert': 28874, 'parameter': 383, 'orange3': 1089, 'ggplot2': 204, 'time': 506, 'openai-gpt': 147, 'sampling': 5004, 'csv': 38654, 'search-engine': 80, 'amazon-ml': 35, 'linear-algebra': 3585, 'hog': 18, 'open-set': 30, 'sequence-to-sequence': 10523, 'hyperparameter-tuning': 6911, 'image-classification': 33238, 'prediction': 15320, 'metric': 5447, 'regex': 917, 'probability': 6183, 'marketing': 494, 'hierarchical-data-format': 391, 'categorical-data': 13013, 'javascript': 628, 'jupyter': 8506, 'object-detection': 13936, 'cost-function': 8756, 'tsne': 1190, 'c': 133, 'nvidia': 1263, 'data-mining': 31056, 'mathematics': 7243, 'hive': 31, 'opencv': 20927, 'siamese-networks': 112, 'naive-bayes-classifier': 5734, 'parameter-estimation': 938, 'lasso': 347, 'algorithms': 4581, 'evaluation': 7302, 'ab-test': 153, 'spyder': 43, 'scraping': 243, 'pathfinder': 266, 'logistic-regression': 18370, 'plotting': 2160, 'privacy': 247, 'scoring': 2871, 'multiclass-classification': 20995, 'homework': 287, 'normalization': 13001, 'data-transfer': 12, 'sagemaker': 423, 'aws-lambda': 992, 'aggregation': 828, 'unsupervised-learning': 12598, 'aws': 1939, 'ngrams': 227}\n"
     ]
    }
   ],
   "source": [
    "print(tot_view)"
   ]
  },
  {
   "cell_type": "markdown",
   "metadata": {},
   "source": [
    "Sort dictionary by values descending"
   ]
  },
  {
   "cell_type": "code",
   "execution_count": 130,
   "metadata": {
    "collapsed": true
   },
   "outputs": [],
   "source": [
    "views = sorted(tot_view.items(), key=lambda x: x[1], reverse=True)"
   ]
  },
  {
   "cell_type": "markdown",
   "metadata": {},
   "source": [
    "print(views)"
   ]
  },
  {
   "cell_type": "code",
   "execution_count": 132,
   "metadata": {
    "collapsed": false
   },
   "outputs": [
    {
     "data": {
      "image/png": "[encoded data removed]",
      "text/plain": [
       "<matplotlib.figure.Figure at 0x7ff63606cda0>"
      ]
     },
     "metadata": {},
     "output_type": "display_data"
    }
   ],
   "source": [
    "sort_views = views[0:10]\n",
    "plt.bar(range(len(sort_views)), [val[1] for val in sort_views])\n",
    "plt.xticks(range(len(sort_views)), [val[0] for val in sort_views])\n",
    "plt.xticks(rotation=70)\n",
    "plt.show()"
   ]
  },
  {
   "cell_type": "markdown",
   "metadata": {},
   "source": [
    "While machine-learning is the top used tag, python is the most viewed one. "
   ]
  },
  {
   "cell_type": "markdown",
   "metadata": {},
   "source": [
    "In this section we will explore the the behaviour of deep learning tag:  \n",
    "how many questiosn are sked over time? \n",
    "What is the trend? is it going up?   \n"
   ]
  },
  {
   "cell_type": "markdown",
   "metadata": {},
   "source": [
    "For this we have extracted from DSSE database all the questions ever asked by this query: \n",
    "SELECT Id, CreationDate, Tags  \n",
    "  FROM posts  \n",
    " WHERE PostTypeId = 1;  \n"
   ]
  },
  {
   "cell_type": "code",
   "execution_count": 134,
   "metadata": {
    "collapsed": true
   },
   "outputs": [],
   "source": [
    "questions = pd.read_csv(\"all_questions.csv\")"
   ]
  },
  {
   "cell_type": "code",
   "execution_count": 135,
   "metadata": {
    "collapsed": false
   },
   "outputs": [
    {
     "name": "stdout",
     "output_type": "stream",
     "text": [
      "<class 'pandas.core.frame.DataFrame'>\n",
      "RangeIndex: 21576 entries, 0 to 21575\n",
      "Data columns (total 3 columns):\n",
      "Id              21576 non-null int64\n",
      "CreationDate    21576 non-null object\n",
      "Tags            21576 non-null object\n",
      "dtypes: int64(1), object(2)\n",
      "memory usage: 505.8+ KB\n"
     ]
    }
   ],
   "source": [
    "questions.info()"
   ]
  },
  {
   "cell_type": "code",
   "execution_count": 136,
   "metadata": {
    "collapsed": true
   },
   "outputs": [],
   "source": [
    "questions[\"CreationDate\"] = questions[\"CreationDate\"].astype('datetime64[ns]')"
   ]
  },
  {
   "cell_type": "code",
   "execution_count": 138,
   "metadata": {
    "collapsed": false
   },
   "outputs": [],
   "source": [
    "questions['Tags'] = questions['Tags'].str.replace(\"><\",\",\")\n",
    "questions['Tags'] = questions['Tags'].str.replace(\"<\",\"\")\n",
    "questions['Tags'] = questions['Tags'].str.replace(\">\",\"\")\n",
    "questions['Tags'] = questions['Tags'].str.split(',')"
   ]
  },
  {
   "cell_type": "markdown",
   "metadata": {},
   "source": [
    "Check per post if it contains a tag related to deep learning"
   ]
  },
  {
   "cell_type": "code",
   "execution_count": 140,
   "metadata": {
    "collapsed": false
   },
   "outputs": [
    {
     "name": "stdout",
     "output_type": "stream",
     "text": [
      "['deep-learning', 'deep-network', 'deepmind']\n"
     ]
    }
   ],
   "source": [
    "deep_tags = [s for s in tag_list if \"deep\" in s]\n",
    "print(deep_tags)"
   ]
  },
  {
   "cell_type": "markdown",
   "metadata": {},
   "source": [
    "since deepmind is a goole department we will remove this tag and work only with the first two"
   ]
  },
  {
   "cell_type": "code",
   "execution_count": 142,
   "metadata": {
    "collapsed": true
   },
   "outputs": [],
   "source": [
    "deep_tags = ['deep-learning', 'deep-network']"
   ]
  },
  {
   "cell_type": "code",
   "execution_count": 144,
   "metadata": {
    "collapsed": false
   },
   "outputs": [],
   "source": [
    "def is_deep(d_tag):\n",
    "    for x in d_tag:\n",
    "        if x in deep_tags:\n",
    "            return 1\n",
    "        else:\n",
    "            return 0\n",
    "questions['is_deep'] = questions['Tags'].apply(is_deep)"
   ]
  },
  {
   "cell_type": "code",
   "execution_count": 146,
   "metadata": {
    "collapsed": false
   },
   "outputs": [
    {
     "data": {
      "text/plain": [
       "0    20585\n",
       "1      991\n",
       "Name: is_deep, dtype: int64"
      ]
     },
     "execution_count": 146,
     "metadata": {},
     "output_type": "execute_result"
    }
   ],
   "source": [
    "questions['is_deep'].value_counts()"
   ]
  },
  {
   "cell_type": "markdown",
   "metadata": {},
   "source": [
    "now we will break the dataframe per month and see how many questions related to deep learning per each period and how it relates to the total questions "
   ]
  },
  {
   "cell_type": "code",
   "execution_count": 151,
   "metadata": {
    "collapsed": false
   },
   "outputs": [],
   "source": [
    "questions['yearmonth'] = questions[\"CreationDate\"].astype(str).str[0:4] + questions[\"CreationDate\"].astype(str).str[5:7]"
   ]
  },
  {
   "cell_type": "code",
   "execution_count": 153,
   "metadata": {
    "collapsed": false
   },
   "outputs": [],
   "source": [
    "questions['yearmonth'] = questions['yearmonth'].astype('int')"
   ]
  },
  {
   "cell_type": "code",
   "execution_count": 164,
   "metadata": {
    "collapsed": false
   },
   "outputs": [],
   "source": [
    "pivot = questions.pivot_table(index=\"yearmonth\",columns=\"is_deep\", aggfunc='size')"
   ]
  },
  {
   "cell_type": "code",
   "execution_count": 172,
   "metadata": {
    "collapsed": false
   },
   "outputs": [],
   "source": [
    "pivot.fillna(0,inplace=True)\n",
    "pivot['total_questions'] = pivot[0] + pivot[1]\n",
    "pivot['deep_rate'] = pivot[1] / pivot['total_questions'] * 100"
   ]
  },
  {
   "cell_type": "code",
   "execution_count": 173,
   "metadata": {
    "collapsed": false
   },
   "outputs": [
    {
     "name": "stdout",
     "output_type": "stream",
     "text": [
      "is_deep        0     1  total_questions  deep_rate\n",
      "yearmonth                                         \n",
      "201405      58.0   0.0             58.0   0.000000\n",
      "201406      99.0   0.0             99.0   0.000000\n",
      "201407      76.0   0.0             76.0   0.000000\n",
      "201408      65.0   0.0             65.0   0.000000\n",
      "201409      48.0   0.0             48.0   0.000000\n",
      "201410      71.0   0.0             71.0   0.000000\n",
      "201411      64.0   0.0             64.0   0.000000\n",
      "201412      81.0   0.0             81.0   0.000000\n",
      "201501      63.0   0.0             63.0   0.000000\n",
      "201502      73.0   0.0             73.0   0.000000\n",
      "201503      53.0   1.0             54.0   1.851852\n",
      "201504      71.0   0.0             71.0   0.000000\n",
      "201505      92.0   0.0             92.0   0.000000\n",
      "201506     121.0   0.0            121.0   0.000000\n",
      "201507     114.0   3.0            117.0   2.564103\n",
      "201508     101.0   0.0            101.0   0.000000\n",
      "201509      93.0   0.0             93.0   0.000000\n",
      "201510     115.0   0.0            115.0   0.000000\n",
      "201511     117.0   0.0            117.0   0.000000\n",
      "201512     149.0   1.0            150.0   0.666667\n",
      "201601     170.0   2.0            172.0   1.162791\n",
      "201602     147.0   1.0            148.0   0.675676\n",
      "201603     193.0   3.0            196.0   1.530612\n",
      "201604     178.0   3.0            181.0   1.657459\n",
      "201605     158.0   6.0            164.0   3.658537\n",
      "201606     172.0   1.0            173.0   0.578035\n",
      "201607     202.0   6.0            208.0   2.884615\n",
      "201608     221.0   3.0            224.0   1.339286\n",
      "201609     151.0   2.0            153.0   1.307190\n",
      "201610     165.0   2.0            167.0   1.197605\n",
      "...          ...   ...              ...        ...\n",
      "201708     272.0  22.0            294.0   7.482993\n",
      "201709     189.0   6.0            195.0   3.076923\n",
      "201710     225.0  11.0            236.0   4.661017\n",
      "201711     327.0  13.0            340.0   3.823529\n",
      "201712     308.0  14.0            322.0   4.347826\n",
      "201801     403.0  13.0            416.0   3.125000\n",
      "201802     369.0  16.0            385.0   4.155844\n",
      "201803     401.0  19.0            420.0   4.523810\n",
      "201804     427.0  19.0            446.0   4.260090\n",
      "201805     552.0  35.0            587.0   5.962521\n",
      "201806     390.0  25.0            415.0   6.024096\n",
      "201807     431.0  34.0            465.0   7.311828\n",
      "201808     512.0  28.0            540.0   5.185185\n",
      "201809     470.0  37.0            507.0   7.297830\n",
      "201810     438.0  23.0            461.0   4.989154\n",
      "201811     395.0  17.0            412.0   4.126214\n",
      "201812     405.0  16.0            421.0   3.800475\n",
      "201901     525.0  27.0            552.0   4.891304\n",
      "201902     680.0  32.0            712.0   4.494382\n",
      "201903     667.0  56.0            723.0   7.745505\n",
      "201904     704.0  42.0            746.0   5.630027\n",
      "201905     782.0  47.0            829.0   5.669481\n",
      "201906     770.0  48.0            818.0   5.867971\n",
      "201907     840.0  69.0            909.0   7.590759\n",
      "201908     712.0  54.0            766.0   7.049608\n",
      "201909     684.0  35.0            719.0   4.867872\n",
      "201910     619.0  26.0            645.0   4.031008\n",
      "201911     628.0  39.0            667.0   5.847076\n",
      "201912     680.0  44.0            724.0   6.077348\n",
      "202001     439.0  20.0            459.0   4.357298\n",
      "\n",
      "[69 rows x 4 columns]\n"
     ]
    }
   ],
   "source": [
    "print(pivot)"
   ]
  },
  {
   "cell_type": "code",
   "execution_count": 212,
   "metadata": {
    "collapsed": false
   },
   "outputs": [
    {
     "data": {
      "image/png": "[encoded data removed]",
      "text/plain": [
       "<matplotlib.figure.Figure at 0x7ff62fff1860>"
      ]
     },
     "metadata": {},
     "output_type": "display_data"
    }
   ],
   "source": [
    "rate = pivot['deep_rate']\n",
    "rate.plot();\n",
    "\n",
    "\n"
   ]
  },
  {
   "cell_type": "markdown",
   "metadata": {},
   "source": [
    "it looks like over time the popularity of these tags in increasing"
   ]
  }
 ],
 "metadata": {
  "kernelspec": {
   "display_name": "Python 3",
   "language": "python",
   "name": "python3"
  }
 },
 "nbformat": 4,
 "nbformat_minor": 2
}
